{
 "cells": [
  {
   "cell_type": "markdown",
   "source": [
    "# Analyse des résultats de VGG-16 pour certaines classes avec des images test propres au dataset d'entraînement et des images externes"
   ],
   "metadata": {
    "collapsed": false
   },
   "id": "5d909ec077ace592"
  },
  {
   "cell_type": "code",
   "outputs": [
    {
     "name": "stdout",
     "output_type": "stream",
     "text": [
      "WARNING:tensorflow:From C:\\Users\\norma\\PycharmProjects\\vgg-test\\.venv\\lib\\site-packages\\keras\\src\\losses.py:2976: The name tf.losses.sparse_softmax_cross_entropy is deprecated. Please use tf.compat.v1.losses.sparse_softmax_cross_entropy instead.\n"
     ]
    }
   ],
   "source": [
    "import tensorflow as tf\n",
    "import numpy as np\n",
    "import matplotlib.pyplot as plt\n",
    "import os\n",
    "import shutil\n",
    "from datasets import dataset_utils\n",
    "from nets import vgg\n",
    "from preprocessing import vgg_preprocessing\n",
    "import tf_slim as slim\n",
    "from scipy.stats import norm"
   ],
   "metadata": {
    "collapsed": false,
    "ExecuteTime": {
     "end_time": "2024-02-08T08:04:17.415995800Z",
     "start_time": "2024-02-08T08:04:11.695482700Z"
    }
   },
   "id": "424af63ad173c953",
   "execution_count": 1
  },
  {
   "cell_type": "code",
   "outputs": [],
   "source": [
    "data_folder = \"./imagenet/validation\"\n",
    "files = os.listdir(data_folder)"
   ],
   "metadata": {
    "collapsed": false,
    "ExecuteTime": {
     "end_time": "2024-02-08T08:04:24.205495600Z",
     "start_time": "2024-02-08T08:04:24.054909Z"
    }
   },
   "id": "d2398569304316fa",
   "execution_count": 3
  },
  {
   "cell_type": "code",
   "outputs": [],
   "source": [
    "# Récupération des labels correspondants\n",
    "\n",
    "labels_file = \"./imagenet/val.txt\"\n",
    "with open(labels_file, 'r') as file:\n",
    "    lines = file.readlines()\n",
    "    \n",
    "labels = []\n",
    "\n",
    "for line in lines:\n",
    "    spline = line.split(' ')\n",
    "    label = int(spline[1])\n",
    "    labels.append(label)"
   ],
   "metadata": {
    "collapsed": false,
    "ExecuteTime": {
     "end_time": "2024-02-08T08:04:26.845825Z",
     "start_time": "2024-02-08T08:04:26.763599400Z"
    }
   },
   "id": "92a7478329dca5b7",
   "execution_count": 4
  },
  {
   "cell_type": "code",
   "outputs": [],
   "source": [
    "def get_refs_for_label(label_index): # Fonction permettant d'obtenir toutes les images pour un label donné\n",
    "    return [files[i] for i, j in enumerate(labels) if j == label_index]\n",
    "\n",
    "def move_refs_for_label(label_index): # Fonction permettant de déplacer toutes les images d'un label donné vers un dossier respectif\n",
    "    if not os.path.exists(\"./imagenet/\"+str(label_index)):\n",
    "        os.mkdir(\"./imagenet/\"+str(label_index))\n",
    "    refs_list = get_refs_for_label(label_index)\n",
    "    for file in refs_list :\n",
    "        shutil.copy(\"./imagenet/validation/\"+file, \"./imagenet/\"+str(label_index)+\"/\"+file)"
   ],
   "metadata": {
    "collapsed": false,
    "ExecuteTime": {
     "end_time": "2024-02-08T08:04:28.389929200Z",
     "start_time": "2024-02-08T08:04:28.324228Z"
    }
   },
   "id": "d319c3e9dd23054c",
   "execution_count": 5
  },
  {
   "cell_type": "code",
   "outputs": [],
   "source": [
    "# Réparition et copie de l'ensemble des images dans les répertoires respectifs\n",
    "\n",
    "#for c in range(1000):\n",
    "#    move_refs_for_label(c)"
   ],
   "metadata": {
    "collapsed": false,
    "ExecuteTime": {
     "end_time": "2024-02-08T08:04:31.835623300Z",
     "start_time": "2024-02-08T08:04:31.825460900Z"
    }
   },
   "id": "4c68bf832eb81ce1",
   "execution_count": 6
  },
  {
   "cell_type": "code",
   "outputs": [],
   "source": [
    "url = \"http://download.tensorflow.org/models/vgg_16_2016_08_28.tar.gz\"\n",
    "checkpoints_dir = '/tmp/checkpoints'\n",
    "\n",
    "if not tf.io.gfile.exists(checkpoints_dir):\n",
    "    tf.io.gfile.makedirs(checkpoints_dir)\n",
    "\n",
    "dataset_utils.download_and_uncompress_tarball(url, checkpoints_dir)\n",
    "\n",
    "image_size = vgg.vgg_16.default_image_size"
   ],
   "metadata": {
    "collapsed": false
   },
   "id": "881750b569382a08",
   "execution_count": null
  },
  {
   "cell_type": "code",
   "outputs": [],
   "source": [
    "def get_pred_values_from_label_images_list(label_index):\n",
    "    prob_list = []\n",
    "    folder = \"./imagenet/\"+str(label_index)\n",
    "    files_list = os.listdir(folder)\n",
    "    for image_file in files_list:\n",
    "        with tf.Graph().as_default():        \n",
    "            image_flux = tf.io.read_file(folder+\"/\"+image_file)\n",
    "            image = tf.image.decode_jpeg(image_flux, channels=3)\n",
    "            processed_image = vgg_preprocessing.preprocess_image(image, image_size, image_size, is_training=False)\n",
    "            processed_images  = tf.expand_dims(processed_image, 0)\n",
    "            \n",
    "            with slim.arg_scope(vgg.vgg_arg_scope()):\n",
    "                # 1000 classes instead of 1001.\n",
    "                logits, _ = vgg.vgg_16(processed_images, num_classes=1000, is_training=False)\n",
    "            probabilities = tf.nn.softmax(logits)\n",
    "            \n",
    "            init_fn = slim.assign_from_checkpoint_fn(\n",
    "                os.path.join(checkpoints_dir, 'vgg_16.ckpt'),\n",
    "                slim.get_model_variables('vgg_16'))\n",
    "    \n",
    "            with tf.compat.v1.Session() as sess:\n",
    "                init_fn(sess)\n",
    "                np_image, probabilities = sess.run([image, probabilities])\n",
    "                probabilities = probabilities[0, 0:]\n",
    "                sorted_inds = [i[0] for i in sorted(enumerate(-probabilities), key=lambda x:x[1])]\n",
    "            \n",
    "            prob_list.append(probabilities[label_index]*100)\n",
    "    return prob_list"
   ],
   "metadata": {
    "collapsed": false,
    "ExecuteTime": {
     "end_time": "2024-02-08T08:06:21.143052Z",
     "start_time": "2024-02-08T08:06:21.064380800Z"
    }
   },
   "id": "37290f4341d19784",
   "execution_count": 8
  },
  {
   "cell_type": "code",
   "outputs": [],
   "source": [
    "def get_pred_values_from_new_images(folder_path, label_index):\n",
    "    prob_list = []\n",
    "    folder = folder_path\n",
    "    files_list = os.listdir(folder)\n",
    "    for image_file in files_list:\n",
    "        with tf.Graph().as_default():        \n",
    "            image_flux = tf.io.read_file(folder+\"/\"+image_file)\n",
    "            image = tf.image.decode_jpeg(image_flux, channels=3)\n",
    "            processed_image = vgg_preprocessing.preprocess_image(image, image_size, image_size, is_training=False)\n",
    "            processed_images  = tf.expand_dims(processed_image, 0)\n",
    "            \n",
    "            with slim.arg_scope(vgg.vgg_arg_scope()):\n",
    "                # 1000 classes instead of 1001.\n",
    "                logits, _ = vgg.vgg_16(processed_images, num_classes=1000, is_training=False)\n",
    "            probabilities = tf.nn.softmax(logits)\n",
    "            \n",
    "            init_fn = slim.assign_from_checkpoint_fn(\n",
    "                os.path.join(checkpoints_dir, 'vgg_16.ckpt'),\n",
    "                slim.get_model_variables('vgg_16'))\n",
    "    \n",
    "            with tf.compat.v1.Session() as sess:\n",
    "                init_fn(sess)\n",
    "                np_image, probabilities = sess.run([image, probabilities])\n",
    "                probabilities = probabilities[0, 0:]\n",
    "                sorted_inds = [i[0] for i in sorted(enumerate(-probabilities), key=lambda x:x[1])]\n",
    "            \n",
    "            prob_list.append(probabilities[label_index]*100)\n",
    "    return prob_list"
   ],
   "metadata": {
    "collapsed": false,
    "ExecuteTime": {
     "end_time": "2024-02-08T08:06:22.464402800Z",
     "start_time": "2024-02-08T08:06:22.385401800Z"
    }
   },
   "id": "e7678740d9c35abe",
   "execution_count": 9
  },
  {
   "cell_type": "code",
   "outputs": [],
   "source": [
    "def make_int_pred_plot(data, nb_bins):\n",
    "    plt.hist(data, nb_bins, density=False, alpha=0.6, color='b')\n",
    "    mu, std = norm.fit(data)\n",
    "    xmin, xmax = plt.xlim()\n",
    "    x = np.linspace(xmin, xmax, 100)\n",
    "    p = norm.pdf(x, mu, std)\n",
    "    plt.plot(x, p, 'k', linewidth=2)\n",
    "    plt.ylim(0, 50)\n",
    "    \n",
    "    plt.xlabel(\"Probabilité de prédiction d'appartenance à la classe\")\n",
    "    plt.ylabel(\"Nombre d'images\")\n",
    "    plt.title('Histogramme des prédictions pour les images internes', fontweight = \"bold\")\n",
    "    plt.show()\n",
    "    \n",
    "def make_ext_pred_plot(data, nb_bins):\n",
    "    plt.hist(data, nb_bins, density=False, alpha=0.6, color='b')\n",
    "    mu, std = norm.fit(data)\n",
    "    xmin, xmax = plt.xlim()\n",
    "    x = np.linspace(xmin, xmax, 100)\n",
    "    p = norm.pdf(x, mu, std)\n",
    "    plt.plot(x, p, 'k', linewidth=2)\n",
    "    plt.ylim(0, 50)\n",
    "    \n",
    "    plt.xlabel(\"Probabilité de prédiction d'appartenance à la classe\")\n",
    "    plt.ylabel(\"Nombre d'images\")\n",
    "    plt.title('Histogramme des prédictions pour les images externes', fontweight = \"bold\")\n",
    "    plt.show()"
   ],
   "metadata": {
    "collapsed": false,
    "ExecuteTime": {
     "end_time": "2024-02-08T08:06:25.856593800Z",
     "start_time": "2024-02-08T08:06:25.807059900Z"
    }
   },
   "id": "476a7a534e6fc874",
   "execution_count": 10
  },
  {
   "cell_type": "code",
   "outputs": [
    {
     "name": "stdout",
     "output_type": "stream",
     "text": [
      "INFO:tensorflow:Restoring parameters from /tmp/checkpoints\\vgg_16.ckpt\n",
      "INFO:tensorflow:Restoring parameters from /tmp/checkpoints\\vgg_16.ckpt\n",
      "INFO:tensorflow:Restoring parameters from /tmp/checkpoints\\vgg_16.ckpt\n",
      "INFO:tensorflow:Restoring parameters from /tmp/checkpoints\\vgg_16.ckpt\n",
      "INFO:tensorflow:Restoring parameters from /tmp/checkpoints\\vgg_16.ckpt\n",
      "INFO:tensorflow:Restoring parameters from /tmp/checkpoints\\vgg_16.ckpt\n",
      "INFO:tensorflow:Restoring parameters from /tmp/checkpoints\\vgg_16.ckpt\n",
      "INFO:tensorflow:Restoring parameters from /tmp/checkpoints\\vgg_16.ckpt\n",
      "INFO:tensorflow:Restoring parameters from /tmp/checkpoints\\vgg_16.ckpt\n",
      "INFO:tensorflow:Restoring parameters from /tmp/checkpoints\\vgg_16.ckpt\n",
      "INFO:tensorflow:Restoring parameters from /tmp/checkpoints\\vgg_16.ckpt\n",
      "INFO:tensorflow:Restoring parameters from /tmp/checkpoints\\vgg_16.ckpt\n",
      "INFO:tensorflow:Restoring parameters from /tmp/checkpoints\\vgg_16.ckpt\n",
      "INFO:tensorflow:Restoring parameters from /tmp/checkpoints\\vgg_16.ckpt\n",
      "INFO:tensorflow:Restoring parameters from /tmp/checkpoints\\vgg_16.ckpt\n",
      "INFO:tensorflow:Restoring parameters from /tmp/checkpoints\\vgg_16.ckpt\n",
      "INFO:tensorflow:Restoring parameters from /tmp/checkpoints\\vgg_16.ckpt\n",
      "INFO:tensorflow:Restoring parameters from /tmp/checkpoints\\vgg_16.ckpt\n",
      "INFO:tensorflow:Restoring parameters from /tmp/checkpoints\\vgg_16.ckpt\n",
      "INFO:tensorflow:Restoring parameters from /tmp/checkpoints\\vgg_16.ckpt\n",
      "INFO:tensorflow:Restoring parameters from /tmp/checkpoints\\vgg_16.ckpt\n",
      "INFO:tensorflow:Restoring parameters from /tmp/checkpoints\\vgg_16.ckpt\n",
      "INFO:tensorflow:Restoring parameters from /tmp/checkpoints\\vgg_16.ckpt\n",
      "INFO:tensorflow:Restoring parameters from /tmp/checkpoints\\vgg_16.ckpt\n",
      "INFO:tensorflow:Restoring parameters from /tmp/checkpoints\\vgg_16.ckpt\n",
      "INFO:tensorflow:Restoring parameters from /tmp/checkpoints\\vgg_16.ckpt\n",
      "INFO:tensorflow:Restoring parameters from /tmp/checkpoints\\vgg_16.ckpt\n",
      "INFO:tensorflow:Restoring parameters from /tmp/checkpoints\\vgg_16.ckpt\n",
      "INFO:tensorflow:Restoring parameters from /tmp/checkpoints\\vgg_16.ckpt\n",
      "INFO:tensorflow:Restoring parameters from /tmp/checkpoints\\vgg_16.ckpt\n",
      "INFO:tensorflow:Restoring parameters from /tmp/checkpoints\\vgg_16.ckpt\n",
      "INFO:tensorflow:Restoring parameters from /tmp/checkpoints\\vgg_16.ckpt\n",
      "INFO:tensorflow:Restoring parameters from /tmp/checkpoints\\vgg_16.ckpt\n",
      "INFO:tensorflow:Restoring parameters from /tmp/checkpoints\\vgg_16.ckpt\n",
      "INFO:tensorflow:Restoring parameters from /tmp/checkpoints\\vgg_16.ckpt\n",
      "INFO:tensorflow:Restoring parameters from /tmp/checkpoints\\vgg_16.ckpt\n",
      "INFO:tensorflow:Restoring parameters from /tmp/checkpoints\\vgg_16.ckpt\n",
      "INFO:tensorflow:Restoring parameters from /tmp/checkpoints\\vgg_16.ckpt\n",
      "INFO:tensorflow:Restoring parameters from /tmp/checkpoints\\vgg_16.ckpt\n",
      "INFO:tensorflow:Restoring parameters from /tmp/checkpoints\\vgg_16.ckpt\n",
      "INFO:tensorflow:Restoring parameters from /tmp/checkpoints\\vgg_16.ckpt\n",
      "INFO:tensorflow:Restoring parameters from /tmp/checkpoints\\vgg_16.ckpt\n",
      "INFO:tensorflow:Restoring parameters from /tmp/checkpoints\\vgg_16.ckpt\n",
      "INFO:tensorflow:Restoring parameters from /tmp/checkpoints\\vgg_16.ckpt\n",
      "INFO:tensorflow:Restoring parameters from /tmp/checkpoints\\vgg_16.ckpt\n",
      "INFO:tensorflow:Restoring parameters from /tmp/checkpoints\\vgg_16.ckpt\n",
      "INFO:tensorflow:Restoring parameters from /tmp/checkpoints\\vgg_16.ckpt\n",
      "INFO:tensorflow:Restoring parameters from /tmp/checkpoints\\vgg_16.ckpt\n",
      "INFO:tensorflow:Restoring parameters from /tmp/checkpoints\\vgg_16.ckpt\n",
      "INFO:tensorflow:Restoring parameters from /tmp/checkpoints\\vgg_16.ckpt\n"
     ]
    }
   ],
   "source": [
    "prob_int_903 = get_pred_values_from_label_images_list(903)"
   ],
   "metadata": {
    "collapsed": false,
    "ExecuteTime": {
     "end_time": "2024-02-07T15:55:18.785113100Z",
     "start_time": "2024-02-07T15:53:44.615146100Z"
    }
   },
   "id": "8ae31796a9268d32",
   "execution_count": 143
  },
  {
   "cell_type": "code",
   "outputs": [
    {
     "name": "stdout",
     "output_type": "stream",
     "text": [
      "INFO:tensorflow:Restoring parameters from /tmp/checkpoints\\vgg_16.ckpt\n",
      "INFO:tensorflow:Restoring parameters from /tmp/checkpoints\\vgg_16.ckpt\n",
      "INFO:tensorflow:Restoring parameters from /tmp/checkpoints\\vgg_16.ckpt\n",
      "INFO:tensorflow:Restoring parameters from /tmp/checkpoints\\vgg_16.ckpt\n",
      "INFO:tensorflow:Restoring parameters from /tmp/checkpoints\\vgg_16.ckpt\n",
      "INFO:tensorflow:Restoring parameters from /tmp/checkpoints\\vgg_16.ckpt\n",
      "INFO:tensorflow:Restoring parameters from /tmp/checkpoints\\vgg_16.ckpt\n",
      "INFO:tensorflow:Restoring parameters from /tmp/checkpoints\\vgg_16.ckpt\n",
      "INFO:tensorflow:Restoring parameters from /tmp/checkpoints\\vgg_16.ckpt\n",
      "INFO:tensorflow:Restoring parameters from /tmp/checkpoints\\vgg_16.ckpt\n",
      "INFO:tensorflow:Restoring parameters from /tmp/checkpoints\\vgg_16.ckpt\n",
      "INFO:tensorflow:Restoring parameters from /tmp/checkpoints\\vgg_16.ckpt\n",
      "INFO:tensorflow:Restoring parameters from /tmp/checkpoints\\vgg_16.ckpt\n",
      "INFO:tensorflow:Restoring parameters from /tmp/checkpoints\\vgg_16.ckpt\n",
      "INFO:tensorflow:Restoring parameters from /tmp/checkpoints\\vgg_16.ckpt\n",
      "INFO:tensorflow:Restoring parameters from /tmp/checkpoints\\vgg_16.ckpt\n",
      "INFO:tensorflow:Restoring parameters from /tmp/checkpoints\\vgg_16.ckpt\n",
      "INFO:tensorflow:Restoring parameters from /tmp/checkpoints\\vgg_16.ckpt\n",
      "INFO:tensorflow:Restoring parameters from /tmp/checkpoints\\vgg_16.ckpt\n",
      "INFO:tensorflow:Restoring parameters from /tmp/checkpoints\\vgg_16.ckpt\n",
      "INFO:tensorflow:Restoring parameters from /tmp/checkpoints\\vgg_16.ckpt\n",
      "INFO:tensorflow:Restoring parameters from /tmp/checkpoints\\vgg_16.ckpt\n",
      "INFO:tensorflow:Restoring parameters from /tmp/checkpoints\\vgg_16.ckpt\n",
      "INFO:tensorflow:Restoring parameters from /tmp/checkpoints\\vgg_16.ckpt\n",
      "INFO:tensorflow:Restoring parameters from /tmp/checkpoints\\vgg_16.ckpt\n",
      "INFO:tensorflow:Restoring parameters from /tmp/checkpoints\\vgg_16.ckpt\n",
      "INFO:tensorflow:Restoring parameters from /tmp/checkpoints\\vgg_16.ckpt\n",
      "INFO:tensorflow:Restoring parameters from /tmp/checkpoints\\vgg_16.ckpt\n",
      "INFO:tensorflow:Restoring parameters from /tmp/checkpoints\\vgg_16.ckpt\n",
      "INFO:tensorflow:Restoring parameters from /tmp/checkpoints\\vgg_16.ckpt\n",
      "INFO:tensorflow:Restoring parameters from /tmp/checkpoints\\vgg_16.ckpt\n",
      "INFO:tensorflow:Restoring parameters from /tmp/checkpoints\\vgg_16.ckpt\n",
      "INFO:tensorflow:Restoring parameters from /tmp/checkpoints\\vgg_16.ckpt\n",
      "INFO:tensorflow:Restoring parameters from /tmp/checkpoints\\vgg_16.ckpt\n",
      "INFO:tensorflow:Restoring parameters from /tmp/checkpoints\\vgg_16.ckpt\n",
      "INFO:tensorflow:Restoring parameters from /tmp/checkpoints\\vgg_16.ckpt\n",
      "INFO:tensorflow:Restoring parameters from /tmp/checkpoints\\vgg_16.ckpt\n",
      "INFO:tensorflow:Restoring parameters from /tmp/checkpoints\\vgg_16.ckpt\n",
      "INFO:tensorflow:Restoring parameters from /tmp/checkpoints\\vgg_16.ckpt\n",
      "INFO:tensorflow:Restoring parameters from /tmp/checkpoints\\vgg_16.ckpt\n",
      "INFO:tensorflow:Restoring parameters from /tmp/checkpoints\\vgg_16.ckpt\n",
      "INFO:tensorflow:Restoring parameters from /tmp/checkpoints\\vgg_16.ckpt\n",
      "INFO:tensorflow:Restoring parameters from /tmp/checkpoints\\vgg_16.ckpt\n",
      "INFO:tensorflow:Restoring parameters from /tmp/checkpoints\\vgg_16.ckpt\n",
      "INFO:tensorflow:Restoring parameters from /tmp/checkpoints\\vgg_16.ckpt\n",
      "INFO:tensorflow:Restoring parameters from /tmp/checkpoints\\vgg_16.ckpt\n",
      "INFO:tensorflow:Restoring parameters from /tmp/checkpoints\\vgg_16.ckpt\n",
      "INFO:tensorflow:Restoring parameters from /tmp/checkpoints\\vgg_16.ckpt\n",
      "INFO:tensorflow:Restoring parameters from /tmp/checkpoints\\vgg_16.ckpt\n",
      "INFO:tensorflow:Restoring parameters from /tmp/checkpoints\\vgg_16.ckpt\n"
     ]
    }
   ],
   "source": [
    "prob_ext_903 = get_pred_values_from_new_images(\"./built_dataset/wig\", 903)"
   ],
   "metadata": {
    "collapsed": false,
    "ExecuteTime": {
     "end_time": "2024-02-07T15:57:02.860868800Z",
     "start_time": "2024-02-07T15:55:26.180302100Z"
    }
   },
   "id": "305d777db4352df0",
   "execution_count": 144
  },
  {
   "cell_type": "code",
   "outputs": [
    {
     "data": {
      "text/plain": "<Figure size 640x480 with 1 Axes>",
      "image/png": "[encoded data removed]"
     },
     "metadata": {},
     "output_type": "display_data"
    },
    {
     "data": {
      "text/plain": "[0.10511028813198209,\n 96.02545499801636,\n 55.1238477230072,\n 92.96168684959412,\n 65.45696258544922,\n 99.55333471298218,\n 42.86700487136841,\n 92.31518507003784,\n 99.95125532150269,\n 29.621276259422302,\n 19.333283603191376,\n 76.17073059082031,\n 87.50708103179932,\n 73.10073971748352,\n 44.75557506084442,\n 70.48631310462952,\n 96.0378646850586,\n 19.63072568178177,\n 14.973938465118408,\n 83.23095440864563,\n 5.399984493851662,\n 5.041337758302689,\n 10.7284314930439,\n 61.14475727081299,\n 0.6410181056708097,\n 19.398133456707,\n 61.636412143707275,\n 99.81719255447388,\n 98.51175546646118,\n 89.33075666427612,\n 85.82959771156311,\n 38.88224959373474,\n 99.22860860824585,\n 68.39508414268494,\n 2.3348692804574966,\n 0.19088113913312554,\n 97.32108116149902,\n 24.98931735754013,\n 53.603219985961914,\n 99.24167394638062,\n 0.5300946533679962,\n 59.56326127052307,\n 55.01413941383362,\n 0.9330300614237785,\n 0.7456058636307716,\n 1.4456270262598991,\n 99.97488856315613,\n 93.12008023262024,\n 96.36197686195374,\n 99.78690147399902]"
     },
     "execution_count": 147,
     "metadata": {},
     "output_type": "execute_result"
    }
   ],
   "source": [
    "make_int_pred_plot(prob_int_903, 20)\n",
    "prob_int_903"
   ],
   "metadata": {
    "collapsed": false,
    "ExecuteTime": {
     "end_time": "2024-02-07T15:59:07.700312700Z",
     "start_time": "2024-02-07T15:59:07.507263600Z"
    }
   },
   "id": "f88d8f6225c6c771",
   "execution_count": 147
  },
  {
   "cell_type": "code",
   "outputs": [
    {
     "data": {
      "text/plain": "<Figure size 640x480 with 1 Axes>",
      "image/png": "[encoded data removed]"
     },
     "metadata": {},
     "output_type": "display_data"
    }
   ],
   "source": [
    "make_ext_pred_plot(prob_ext_903, 20)"
   ],
   "metadata": {
    "collapsed": false,
    "ExecuteTime": {
     "end_time": "2024-02-07T15:58:10.755660800Z",
     "start_time": "2024-02-07T15:58:10.491509700Z"
    }
   },
   "id": "5966a59c60460b3",
   "execution_count": 146
  },
  {
   "cell_type": "code",
   "outputs": [
    {
     "name": "stdout",
     "output_type": "stream",
     "text": [
      "[47.293826937675476, 99.69845414161682, 3.7016913294792175, 93.18878054618835, 39.39703404903412, 96.71743512153625, 44.441890716552734, 99.64137673377991, 99.19403195381165, 99.9829649925232, 18.60341727733612, 98.95463585853577, 86.45824790000916, 21.118687093257904, 21.064676344394684, 8.291672170162201, 1.850566826760769, 68.47710609436035, 0.6572327576577663, 97.78091311454773, 10.725073516368866, 99.95200634002686, 94.06730532646179, 99.71160888671875, 82.07043409347534, 99.7134804725647, 64.40371870994568, 97.24676609039307, 34.13238823413849, 14.484018087387085, 6.564022600650787, 99.71917271614075, 97.79687523841858, 99.78033900260925, 88.20726871490479, 99.99806880950928, 92.57816076278687, 100.0, 17.257313430309296, 99.24895763397217, 21.638543903827667, 18.60564351081848, 66.44997000694275, 65.77141880989075, 89.25246596336365, 1.7484091222286224, 99.90302324295044, 97.49133586883545, 7.8071363270282745, 65.82338213920593]\n"
     ]
    }
   ],
   "source": [
    "print(prob_int_954)"
   ],
   "metadata": {
    "collapsed": false,
    "ExecuteTime": {
     "end_time": "2024-02-07T15:23:00.429713300Z",
     "start_time": "2024-02-07T15:23:00.302144700Z"
    }
   },
   "id": "4dc47024321ca8d4",
   "execution_count": 119
  },
  {
   "cell_type": "code",
   "outputs": [
    {
     "data": {
      "text/plain": "18"
     },
     "execution_count": 125,
     "metadata": {},
     "output_type": "execute_result"
    }
   ],
   "source": [
    "prob_int_954.index(min(prob_int_954))"
   ],
   "metadata": {
    "collapsed": false,
    "ExecuteTime": {
     "end_time": "2024-02-07T15:27:16.312909800Z",
     "start_time": "2024-02-07T15:27:16.283695600Z"
    }
   },
   "id": "fe320ad8d8d652da",
   "execution_count": 125
  },
  {
   "cell_type": "code",
   "outputs": [
    {
     "data": {
      "text/plain": "0.025660291430540383"
     },
     "execution_count": 126,
     "metadata": {},
     "output_type": "execute_result"
    }
   ],
   "source": [
    "prob_ext_954[35]"
   ],
   "metadata": {
    "collapsed": false,
    "ExecuteTime": {
     "end_time": "2024-02-07T15:27:17.605921700Z",
     "start_time": "2024-02-07T15:27:17.495625500Z"
    }
   },
   "id": "76fa2fa39cfca545",
   "execution_count": 126
  },
  {
   "cell_type": "code",
   "outputs": [
    {
     "data": {
      "text/plain": "0.6572327576577663"
     },
     "execution_count": 127,
     "metadata": {},
     "output_type": "execute_result"
    }
   ],
   "source": [
    "min(prob_int_954)"
   ],
   "metadata": {
    "collapsed": false,
    "ExecuteTime": {
     "end_time": "2024-02-07T15:27:18.719655700Z",
     "start_time": "2024-02-07T15:27:18.647353500Z"
    }
   },
   "id": "fef269ae04d31481",
   "execution_count": 127
  },
  {
   "cell_type": "code",
   "outputs": [],
   "source": [],
   "metadata": {
    "collapsed": false
   },
   "id": "4f7a187835153ca7"
  }
 ],
 "metadata": {
  "kernelspec": {
   "display_name": "Python 3",
   "language": "python",
   "name": "python3"
  },
  "language_info": {
   "codemirror_mode": {
    "name": "ipython",
    "version": 2
   },
   "file_extension": ".py",
   "mimetype": "text/x-python",
   "name": "python",
   "nbconvert_exporter": "python",
   "pygments_lexer": "ipython2",
   "version": "2.7.6"
  }
 },
 "nbformat": 4,
 "nbformat_minor": 5
}
