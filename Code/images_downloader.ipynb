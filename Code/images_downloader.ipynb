{
 "cells": [
  {
   "cell_type": "code",
   "outputs": [
    {
     "name": "stdout",
     "output_type": "stream",
     "text": [
      "Requirement already satisfied: simple_image_download in c:\\users\\norma\\pycharmprojects\\vgg-test\\.venv\\lib\\site-packages (0.5)\n",
      "Requirement already satisfied: requests in c:\\users\\norma\\pycharmprojects\\vgg-test\\.venv\\lib\\site-packages (from simple_image_download) (2.31.0)\n",
      "Requirement already satisfied: python-magic-bin==0.4.14 in c:\\users\\norma\\pycharmprojects\\vgg-test\\.venv\\lib\\site-packages (from simple_image_download) (0.4.14)\n",
      "Requirement already satisfied: progressbar in c:\\users\\norma\\pycharmprojects\\vgg-test\\.venv\\lib\\site-packages (from simple_image_download) (2.5)\n",
      "Requirement already satisfied: charset-normalizer<4,>=2 in c:\\users\\norma\\pycharmprojects\\vgg-test\\.venv\\lib\\site-packages (from requests->simple_image_download) (3.3.2)\n",
      "Requirement already satisfied: idna<4,>=2.5 in c:\\users\\norma\\pycharmprojects\\vgg-test\\.venv\\lib\\site-packages (from requests->simple_image_download) (3.6)\n",
      "Requirement already satisfied: urllib3<3,>=1.21.1 in c:\\users\\norma\\pycharmprojects\\vgg-test\\.venv\\lib\\site-packages (from requests->simple_image_download) (2.2.0)\n",
      "Requirement already satisfied: certifi>=2017.4.17 in c:\\users\\norma\\pycharmprojects\\vgg-test\\.venv\\lib\\site-packages (from requests->simple_image_download) (2024.2.2)\n",
      "Requirement already satisfied: Pillow in c:\\users\\norma\\pycharmprojects\\vgg-test\\.venv\\lib\\site-packages (10.2.0)\n"
     ]
    }
   ],
   "source": [
    "import sys\n",
    "!{sys.executable} -m pip install simple_image_download\n",
    "!{sys.executable} -m pip install Pillow"
   ],
   "metadata": {
    "collapsed": false,
    "ExecuteTime": {
     "end_time": "2024-02-07T10:22:26.134015200Z",
     "start_time": "2024-02-07T10:22:21.739825100Z"
    }
   },
   "id": "9b9aef263dbfeaa5",
   "execution_count": 1
  },
  {
   "cell_type": "code",
   "outputs": [],
   "source": [
    "import os\n",
    "from PIL import Image\n",
    "import simple_image_download.simple_image_download as simp"
   ],
   "metadata": {
    "collapsed": false,
    "ExecuteTime": {
     "end_time": "2024-02-07T10:22:27.987524900Z",
     "start_time": "2024-02-07T10:22:27.816873400Z"
    }
   },
   "id": "a2064353be98645a",
   "execution_count": 2
  },
  {
   "cell_type": "code",
   "outputs": [],
   "source": [
    "response = simp.Downloader()"
   ],
   "metadata": {
    "collapsed": false,
    "ExecuteTime": {
     "end_time": "2024-02-07T09:46:34.447223500Z",
     "start_time": "2024-02-07T09:46:34.412858100Z"
    }
   },
   "id": "b6a222aa9ac2b170",
   "execution_count": 3
  },
  {
   "cell_type": "code",
   "outputs": [
    {
     "name": "stderr",
     "output_type": "stream",
     "text": [
      "[========================================================================] 100%\r\n"
     ]
    },
    {
     "name": "stdout",
     "output_type": "stream",
     "text": [
      "sorrel_horse_200.png\n",
      "sorrel_horse_182.png\n",
      "sorrel_horse_151.png\n",
      "sorrel_horse_51.png\n",
      "sorrel_horse_7d.jpeg\n",
      "sorrel_horse_278.jpeg\n",
      "sorrel_horse_17d.png\n",
      "sorrel_horse_138.jpeg\n",
      "sorrel_horse_1cb.jpeg\n",
      "sorrel_horse_1c7.jpeg\n",
      "sorrel_horse_193.jpeg\n",
      "sorrel_horse_345.jpeg\n",
      "sorrel_horse_cf.jpeg\n",
      "sorrel_horse_150.webp\n",
      "sorrel_horse_214.jpeg\n",
      "sorrel_horse_3b2.jpeg\n",
      "sorrel_horse_73.jpeg\n",
      "sorrel_horse_109.jpeg\n",
      "sorrel_horse_255.jpeg\n",
      "sorrel_horse_34e.jpeg\n",
      "sorrel_horse_18f.jpeg\n",
      "sorrel_horse_b3.jpeg\n",
      "sorrel_horse_36f.jpeg\n",
      "sorrel_horse_38f.jpeg\n",
      "sorrel_horse_86.jpeg\n",
      "sorrel_horse_318.jpeg\n",
      "sorrel_horse_3d7.jpeg\n",
      "sorrel_horse_2b8.jpeg\n",
      "sorrel_horse_262.jpeg\n",
      "sorrel_horse_32.jpeg\n",
      "sorrel_horse_a6.jpeg\n",
      "sorrel_horse_100.jpeg\n",
      "sorrel_horse_180.jpeg\n",
      "sorrel_horse_5a.jpeg\n",
      "sorrel_horse_e3.jpeg\n",
      "sorrel_horse_132.jpeg\n",
      "sorrel_horse_280.jpeg\n",
      "sorrel_horse_ad.jpeg\n",
      "sorrel_horse_12b.jpeg\n",
      "sorrel_horse_130.jpeg\n",
      "sorrel_horse_157.webp\n",
      "sorrel_horse_1c4.jpeg\n",
      "sorrel_horse_78.jpeg\n",
      "sorrel_horse_1d5.jpeg\n",
      "sorrel_horse_263.jpeg\n",
      "sorrel_horse_231.jpeg\n",
      "sorrel_horse_9e.jpeg\n",
      "sorrel_horse_273.jpeg\n",
      "sorrel_horse_15.webp\n",
      "sorrel_horse_33d.jpeg\n",
      "sorrel_horse_3ba.jpeg\n",
      "sorrel_horse_16e.jpeg\n",
      "sorrel_horse_2c7.jpeg\n",
      "sorrel_horse_a1.jpeg\n",
      "sorrel_horse_23e.jpeg\n",
      "sorrel_horse_2e.jpeg\n",
      "sorrel_horse_23c.jpeg\n",
      "sorrel_horse_120.jpeg\n",
      "sorrel_horse_c2.jpeg\n",
      "File Name=sorrel_horse_200.png, Downloaded from https://ssl.gstatic.com/gb/images/bar/al-icon.png\n",
      "File Name=sorrel_horse_182.png, Downloaded from https://www.gstatic.com/ui/v1/menu/light_thumbnail2.png\n",
      "File Name=sorrel_horse_151.png, Downloaded from https://www.gstatic.com/ui/v1/menu/dark_thumbnail2.png\n",
      "File Name=sorrel_horse_51.png, Downloaded from https://www.gstatic.com/ui/v1/menu/device_default_thumbnail2.png\n",
      "File Name=sorrel_horse_7d.jpeg, Downloaded from https://www.horsebreedspictures.com/wp-content/uploads/2019/08/Sorrel-Horse.jpg\n",
      "File Name=sorrel_horse_278.jpeg, Downloaded from https://vetexplainspets.com/wp-content/uploads/2020/05/editted-sorrel-horse-1-of-2.jpg\n",
      "File Name=sorrel_horse_17d.png, Downloaded from https://vetexplainspets.com/wp-content/uploads/2020/05/Screen-Shot-2020-05-28-at-12.15.03-PM.png\n",
      "File Name=sorrel_horse_138.jpeg, Downloaded from https://www.horsebreedspictures.com/wp-content/uploads/2019/08/Red-Sorrel-Horse.jpg\n",
      "File Name=sorrel_horse_1cb.jpeg, Downloaded from https://as2.ftcdn.net/v2/jpg/02/41/89/43/1000_F_241894349_NQ3hTWeh9jJ10sG7myx7B9842rv5cbSq.jpg\n",
      "File Name=sorrel_horse_1c7.jpeg, Downloaded from https://images.uesp.net/3/37/ON-mount-Sorrel_Horse.jpg\n",
      "File Name=sorrel_horse_193.jpeg, Downloaded from https://www.horsebreedspictures.com/wp-content/uploads/2019/08/Sorrel-Quarter-Horse.jpg\n",
      "File Name=sorrel_horse_345.jpeg, Downloaded from https://as1.ftcdn.net/v2/jpg/02/41/89/38/1000_F_241893819_DyPmnqi8p7ZnT19GFy3FAsa3zuARG9pJ.jpg\n",
      "File Name=sorrel_horse_cf.jpeg, Downloaded from https://anequestrianlife.com/wp-content/uploads/2023/11/chestnut-sorrel-horse.jpg\n",
      "File Name=sorrel_horse_150.webp, Downloaded from https://horseracingsense.com/wp-content/uploads/2023/03/sorrel_horse-1024x576.jpg.webp\n",
      "File Name=sorrel_horse_214.jpeg, Downloaded from https://thumbs.dreamstime.com/b/sorrel-horse-avec-la-flamme-blanche-30736284.jpg\n",
      "File Name=sorrel_horse_3b2.jpeg, Downloaded from https://modernpaintbynumbers.com/wp-content/uploads/2020/10/sorrel-horse-paint-by-number.jpg\n",
      "File Name=sorrel_horse_73.jpeg, Downloaded from https://img.pixers.pics/pho_wat(s3:700/FO/68/11/99/89/700_FO68119989_8d46782bfcc3641663efa690e16c842c.jpg,700,443,cms:2018/10/5bd1b6b8d04b8_220x50-watermark.png,over,480,393,jpg)/stickers-sorrel-horse-running-in-summer-pastures.jpg.jpg\n",
      "File Name=sorrel_horse_109.jpeg, Downloaded from https://i.pinimg.com/736x/78/c6/e6/78c6e64bd45b0b2f8c60ed14bf022218.jpg\n",
      "File Name=sorrel_horse_255.jpeg, Downloaded from https://live.staticflickr.com/17/90736199_c2c2577540_z.jpg\n",
      "File Name=sorrel_horse_34e.jpeg, Downloaded from https://garden.spoonflower.com/c/946676/r/l/d-i-21/YDzWx8eKAknhnRCEI79eYy6-SV2EzQPMjg/946676-sorrel-horse-by-khowardquilts.jpg\n",
      "File Name=sorrel_horse_18f.jpeg, Downloaded from https://www.horsebreedspictures.com/wp-content/uploads/2019/08/Images-of-Sorrel-Horse.jpg\n",
      "File Name=sorrel_horse_b3.jpeg, Downloaded from https://www.shutterstock.com/image-photo/quarter-horse-sorrel-mare-summer-600nw-2251497539.jpg\n",
      "File Name=sorrel_horse_36f.jpeg, Downloaded from https://as2.ftcdn.net/v2/jpg/00/68/11/99/1000_F_68119926_V3rxmbiKT2dhbDMscg978x0IQ8ffcD7y.jpg\n",
      "File Name=sorrel_horse_38f.jpeg, Downloaded from https://t1.pixers.pics/img-c676e9e9/canvas-prints-sorrel-horse-running-in-summer-pastures.jpg?H4sIAAAAAAAAA42PW07EMAxFt5NK7dh5NE26gPmdJVR5uEOhLyUFRqyeFBB_SMgftq_sc3Xhdc1uJAi0HpRgmWKcCcZpLlvuE-XpgxjWrZFVX9SZIWLVb2-UQtp21nAh60aZupVdrbmo-ndXPheXXtjTcey5B8jysk-PgistZAhLBoG8A5TQmhjJEjqNox82n5p93o51awQ-JF729V7jWf_HGuAIrY_ca28iKm8GUWAtNr-EL6zkqoQSJ_onZIdYd2e4I00LK2m3cn2w5_1ewR-e3zOUL7jeQBdvDtaCUqc0XG_acG6tUoMOUnNvvIvk1Nh5RUSchxiDciZYfykun-Zej5WKAQAA\n",
      "File Name=sorrel_horse_86.jpeg, Downloaded from https://thumbs.dreamstime.com/z/sorrel-horse-portrait-meadow-74490932.jpg\n",
      "File Name=sorrel_horse_318.jpeg, Downloaded from https://mediavine-res.cloudinary.com/image/upload/s--WKObFmU5--/ar_4:3,c_fill,f_auto,fl_lossy,q_auto/v1647072843/qfntorfj3jzzlwglnlq4.jpg\n",
      "File Name=sorrel_horse_3d7.jpeg, Downloaded from https://thumbs.dreamstime.com/z/sorrel-horse-running-42982469.jpg\n",
      "File Name=sorrel_horse_2b8.jpeg, Downloaded from https://cdn5.vectorstock.com/i/1000x1000/62/59/sorrel-horse-in-flat-design-vector-17126259.jpg\n",
      "File Name=sorrel_horse_262.jpeg, Downloaded from https://www.lignoma.com/productimages/zoom/002/6058-L--4-.jpg\n",
      "File Name=sorrel_horse_32.jpeg, Downloaded from https://www.horsebreedspictures.com/wp-content/uploads/2019/08/Sorrel-Horse-Pictures.jpg\n",
      "File Name=sorrel_horse_a6.jpeg, Downloaded from https://www.helpfulhorsehints.com/wp-content/uploads/chestnut-sorrel.jpg\n",
      "File Name=sorrel_horse_100.jpeg, Downloaded from https://i.ebayimg.com/images/g/ibwAAOSwxXJce4S0/s-l1200.jpg\n",
      "File Name=sorrel_horse_180.jpeg, Downloaded from https://i.etsystatic.com/44001265/r/il/969235/4954598368/il_300x300.4954598368_bvbv.jpg\n",
      "File Name=sorrel_horse_5a.jpeg, Downloaded from https://as2.ftcdn.net/v2/jpg/02/41/89/47/1000_F_241894790_EPCUi3MwZ4E4HmKLbhziy84UPvq2THDY.jpg\n",
      "File Name=sorrel_horse_e3.jpeg, Downloaded from https://c8.alamy.com/comp/2H96C4Y/sorrel-horse-with-blonde-mane-2H96C4Y.jpg\n",
      "File Name=sorrel_horse_132.jpeg, Downloaded from https://c8.alamy.com/comp/EPX94Y/sorrel-horse-looking-at-camera-EPX94Y.jpg\n",
      "File Name=sorrel_horse_280.jpeg, Downloaded from https://images.uesp.net/f/f1/ON-furnishing-Sorrel_Horse.jpg\n",
      "File Name=sorrel_horse_ad.jpeg, Downloaded from https://www.shutterstock.com/shutterstock/photos/500916142/display_1500/stock-photo-thoroughbred-sorrel-horse-looking-at-camera-500916142.jpg\n",
      "File Name=sorrel_horse_12b.jpeg, Downloaded from https://i0.wp.com/eso.mmo-fashion.com/wp-content/uploads/sites/2/2016/07/Sorrel-Horse-Side-1.jpg?resize\n",
      "File Name=sorrel_horse_130.jpeg, Downloaded from https://as1.ftcdn.net/v2/jpg/01/75/38/94/1000_F_175389426_wvA8GuCAFbsWLefaUYoAMP2IDpp8M1N8.jpg\n",
      "File Name=sorrel_horse_157.webp, Downloaded from https://www.joyfulequestrian.com/wp-content/uploads/2022/12/sorrel-horse-color.jpg\n",
      "File Name=sorrel_horse_1c4.jpeg, Downloaded from https://images.fineartamerica.com/images/artworkimages/mediumlarge/3/sorrel-horse-maria-reichert.jpg\n",
      "File Name=sorrel_horse_78.jpeg, Downloaded from https://www.shop.ciajea.com/74866-large_default/sorrel-horse.jpg\n",
      "File Name=sorrel_horse_1d5.jpeg, Downloaded from https://as2.ftcdn.net/v2/jpg/00/54/80/85/1000_F_54808506_ptzutHF0nbip2I3L6ZsJxXn8Z8jODGks.jpg\n",
      "File Name=sorrel_horse_263.jpeg, Downloaded from https://i.etsystatic.com/11397434/r/il/841aaa/1609578457/il_570xN.1609578457_72f9.jpg\n",
      "File Name=sorrel_horse_231.jpeg, Downloaded from https://c8.alamy.com/comp/MAEK56/equestrian-sport-portrait-dressage-head-of-sorrel-horse-isolate-on-white-background-MAEK56.jpg\n",
      "File Name=sorrel_horse_9e.jpeg, Downloaded from https://thumbs.dreamstime.com/z/sorrel-horse-6422700.jpg\n",
      "File Name=sorrel_horse_273.jpeg, Downloaded from https://as2.ftcdn.net/v2/jpg/03/95/30/71/1000_F_395307170_4mY1MTcV5g9gHNd9BjLiZSXCqlx51iiv.jpg\n",
      "File Name=sorrel_horse_15.webp, Downloaded from https://horseracingsense.com/wp-content/uploads/2022/10/chestnut.filly_-1024x768.jpg.webp\n",
      "File Name=sorrel_horse_33d.jpeg, Downloaded from https://t1.pixers.pics/img-c676e9e9/canvas-prints-portrait-of-beautiful-sorrel-horse-at-freedom.jpg?H4sIAAAAAAAAA42PW07EMAxFt9NKae280y5gfmcJVdOkQ6GPKAlQsXpSQPwhIVvytWUf68LrnsbZw-T37CNsi3Orh3lZS5f66NPy4SupBcG6L9O1QizqePNxikeoGslJQ6kgCjWRQtX9-1gutzG-VE85h9QDJN6G5Sy4UqYE05aAIdWAHKRxzluDTjCDQ1iPvB-NwJNjG_YHwSv-jzRAEaR11CprHAprBsbwlNj8Er6wAg0Rnb7QPwY1ItGXsRyXrSpOj7Kdq-fwqOGPn98ayhXc7qAYSHVlh9douN0Vk0qqDgffSees4cpyq5w3aKTxs6V-kswU1ZYvn4PlA1eGAQAA\n",
      "File Name=sorrel_horse_3ba.jpeg, Downloaded from https://images.uesp.net/a/ab/ON-mount-Snow-Blanket_Sorrel_Horse.jpg\n",
      "File Name=sorrel_horse_16e.jpeg, Downloaded from https://fantasy-art.nl/images/thumbs/0000096_ah-060-sorrel-horse_625.jpeg\n",
      "File Name=sorrel_horse_2c7.jpeg, Downloaded from https://images.fineartamerica.com/images/artworkimages/mediumlarge/1/sorrel-horse-silver-cloud.jpg\n",
      "File Name=sorrel_horse_a1.jpeg, Downloaded from https://i.pinimg.com/originals/88/13/67/881367542ffeaa3252708c7ec003cc79.jpg\n",
      "File Name=sorrel_horse_23e.jpeg, Downloaded from https://c8.alamy.com/comp/MAD2JC/equestrian-sport-dressage-head-of-sorrel-horse-on-sky-nature-background-MAD2JC.jpg\n",
      "File Name=sorrel_horse_2e.jpeg, Downloaded from https://i0.wp.com/eso.mmo-fashion.com/wp-content/uploads/sites/2/2018/07/Snow-Blankey-Sorrel-Horse-Front.jpg?resize\n",
      "File Name=sorrel_horse_23c.jpeg, Downloaded from https://thumbs.dreamstime.com/z/sorrel-horse-side-view-head-shot-bay-stallion-portrait-thoroughbred-bridled-horse-blur-green-trees-background-selective-117496922.jpg\n",
      "File Name=sorrel_horse_120.jpeg, Downloaded from https://as1.ftcdn.net/v2/jpg/02/41/89/44/1000_F_241894456_fIjiHxPJzTEUwHI8PsjVi1k8XjVIsLNN.jpg\n",
      "File Name=sorrel_horse_c2.jpeg, Downloaded from https://www.horsebreedspictures.com/wp-content/uploads/2019/08/Sorrel-Horse-Photos.jpg\n"
     ]
    }
   ],
   "source": [
    "#response.download(keywords=\"polar bear\", limit=1)\n",
    "response.download('sorrel_horse',limit=70, verbose=True)"
   ],
   "metadata": {
    "collapsed": false,
    "ExecuteTime": {
     "end_time": "2024-02-07T08:39:08.114567Z",
     "start_time": "2024-02-07T08:38:27.629779900Z"
    }
   },
   "id": "7d5326e86848f0f4",
   "execution_count": 10
  },
  {
   "cell_type": "code",
   "outputs": [],
   "source": [
    "def download_images_by_keyword(keyword):\n",
    "    response = simp.Downloader()\n",
    "    #response.extensions=['jpg','jpeg','png','tiff', 'bmp']\n",
    "    response.download(keyword, limit=70)\n",
    "    print('Download completed !')\n",
    "    folder = './simple_images/'+keyword+'/' \n",
    "\n",
    "def preprocess_downloaded_images(keyword):\n",
    "    folder = './simple_images/'+keyword+'/'\n",
    "    image_files = os.listdir(folder)\n",
    "    for image_file in image_files:\n",
    "        image_path = folder+image_file\n",
    "        image = Image.open(image_path)\n",
    "        width, height = image.size\n",
    "        if width < 224 or height < 224 :\n",
    "            image.close()\n",
    "            os.remove(image_path)\n",
    "        else :\n",
    "            cv_image = image.convert('RGB')\n",
    "            new_image_file = image_path.rsplit( \".\", 1 )[ 0 ]+'.JPEG'\n",
    "            cv_image.save(new_image_file, 'JPEG')"
   ],
   "metadata": {
    "collapsed": false,
    "ExecuteTime": {
     "end_time": "2024-02-07T10:23:51.959418400Z",
     "start_time": "2024-02-07T10:23:51.943402400Z"
    }
   },
   "id": "a17373be99934169",
   "execution_count": 5
  },
  {
   "cell_type": "code",
   "outputs": [
    {
     "name": "stderr",
     "output_type": "stream",
     "text": [
      "[========================================================================] 100%\r"
     ]
    },
    {
     "name": "stdout",
     "output_type": "stream",
     "text": [
      "Download completed !\n"
     ]
    },
    {
     "name": "stderr",
     "output_type": "stream",
     "text": [
      "\n"
     ]
    }
   ],
   "source": [
    "try:\n",
    "    download_images_by_keyword('polar_bear')\n",
    "except ConnectionError:\n",
    "    print(\"ConnectionError\")"
   ],
   "metadata": {
    "collapsed": false,
    "ExecuteTime": {
     "end_time": "2024-02-07T13:27:05.522850300Z",
     "start_time": "2024-02-07T13:26:19.237792200Z"
    }
   },
   "id": "87066ed8841641b5",
   "execution_count": 17
  },
  {
   "cell_type": "code",
   "outputs": [
    {
     "ename": "FileNotFoundError",
     "evalue": "[WinError 3] Le chemin d’accès spécifié est introuvable: './simple_images/chihuahua/'",
     "output_type": "error",
     "traceback": [
      "\u001B[1;31m---------------------------------------------------------------------------\u001B[0m",
      "\u001B[1;31mFileNotFoundError\u001B[0m                         Traceback (most recent call last)",
      "Cell \u001B[1;32mIn[20], line 1\u001B[0m\n\u001B[1;32m----> 1\u001B[0m \u001B[43mpreprocess_downloaded_images\u001B[49m\u001B[43m(\u001B[49m\u001B[38;5;124;43m'\u001B[39;49m\u001B[38;5;124;43mchihuahua\u001B[39;49m\u001B[38;5;124;43m'\u001B[39;49m\u001B[43m)\u001B[49m\n",
      "Cell \u001B[1;32mIn[5], line 10\u001B[0m, in \u001B[0;36mpreprocess_downloaded_images\u001B[1;34m(keyword)\u001B[0m\n\u001B[0;32m      8\u001B[0m \u001B[38;5;28;01mdef\u001B[39;00m \u001B[38;5;21mpreprocess_downloaded_images\u001B[39m(keyword):\n\u001B[0;32m      9\u001B[0m     folder \u001B[38;5;241m=\u001B[39m \u001B[38;5;124m'\u001B[39m\u001B[38;5;124m./simple_images/\u001B[39m\u001B[38;5;124m'\u001B[39m\u001B[38;5;241m+\u001B[39mkeyword\u001B[38;5;241m+\u001B[39m\u001B[38;5;124m'\u001B[39m\u001B[38;5;124m/\u001B[39m\u001B[38;5;124m'\u001B[39m\n\u001B[1;32m---> 10\u001B[0m     image_files \u001B[38;5;241m=\u001B[39m \u001B[43mos\u001B[49m\u001B[38;5;241;43m.\u001B[39;49m\u001B[43mlistdir\u001B[49m\u001B[43m(\u001B[49m\u001B[43mfolder\u001B[49m\u001B[43m)\u001B[49m\n\u001B[0;32m     11\u001B[0m     \u001B[38;5;28;01mfor\u001B[39;00m image_file \u001B[38;5;129;01min\u001B[39;00m image_files:\n\u001B[0;32m     12\u001B[0m         image_path \u001B[38;5;241m=\u001B[39m folder\u001B[38;5;241m+\u001B[39mimage_file\n",
      "\u001B[1;31mFileNotFoundError\u001B[0m: [WinError 3] Le chemin d’accès spécifié est introuvable: './simple_images/chihuahua/'"
     ]
    }
   ],
   "source": [
    "preprocess_downloaded_images('polar_bear')"
   ],
   "metadata": {
    "collapsed": false,
    "ExecuteTime": {
     "end_time": "2024-02-07T14:39:35.966168600Z",
     "start_time": "2024-02-07T14:39:35.846206500Z"
    }
   },
   "id": "deeb3ac0ac74a44b",
   "execution_count": 20
  },
  {
   "cell_type": "code",
   "outputs": [
    {
     "name": "stderr",
     "output_type": "stream",
     "text": [
      "[===============================================================         ]  88%\r"
     ]
    },
    {
     "name": "stdout",
     "output_type": "stream",
     "text": [
      "HTTPSConnectionPool(host='learnenglishteens.britishcouncil.org', port=443): Read timed out. (read timeout=10)\n"
     ]
    },
    {
     "name": "stderr",
     "output_type": "stream",
     "text": [
      "[========================================================================] 100%\r\n"
     ]
    },
    {
     "name": "stdout",
     "output_type": "stream",
     "text": [
      "Download completed !\n"
     ]
    }
   ],
   "source": [
    "key = 'llama'\n",
    "download_images_by_keyword(key)\n",
    "preprocess_downloaded_images(key)"
   ],
   "metadata": {
    "collapsed": false,
    "ExecuteTime": {
     "end_time": "2024-02-07T10:25:50.980658300Z",
     "start_time": "2024-02-07T10:25:15.050130100Z"
    }
   },
   "id": "1a499d88e5e93894",
   "execution_count": 8
  },
  {
   "cell_type": "code",
   "outputs": [],
   "source": [
    "import tensorflow as tf\n",
    "from tensorflow import keras"
   ],
   "metadata": {
    "collapsed": false,
    "ExecuteTime": {
     "end_time": "2024-02-08T14:47:10.312359Z",
     "start_time": "2024-02-08T14:47:10.266168200Z"
    }
   },
   "id": "d5dfcfa72e9cd06e",
   "execution_count": 6
  },
  {
   "cell_type": "code",
   "outputs": [
    {
     "ename": "ValueError",
     "evalue": "No model config found in the file at <tensorflow.python.platform.gfile.GFile object at 0x000002230B85D730>.",
     "output_type": "error",
     "traceback": [
      "\u001B[1;31m---------------------------------------------------------------------------\u001B[0m",
      "\u001B[1;31mValueError\u001B[0m                                Traceback (most recent call last)",
      "Cell \u001B[1;32mIn[14], line 3\u001B[0m\n\u001B[0;32m      1\u001B[0m \u001B[38;5;28;01mfrom\u001B[39;00m \u001B[38;5;21;01mkeras\u001B[39;00m\u001B[38;5;21;01m.\u001B[39;00m\u001B[38;5;21;01mmodels\u001B[39;00m \u001B[38;5;28;01mimport\u001B[39;00m load_model\n\u001B[0;32m      2\u001B[0m \u001B[38;5;28;01mfrom\u001B[39;00m \u001B[38;5;21;01mkeras\u001B[39;00m\u001B[38;5;21;01m.\u001B[39;00m\u001B[38;5;21;01mapplications\u001B[39;00m\u001B[38;5;21;01m.\u001B[39;00m\u001B[38;5;21;01mvgg16\u001B[39;00m \u001B[38;5;28;01mimport\u001B[39;00m VGG16\n\u001B[1;32m----> 3\u001B[0m model \u001B[38;5;241m=\u001B[39m \u001B[43mload_model\u001B[49m\u001B[43m(\u001B[49m\u001B[38;5;124;43m'\u001B[39;49m\u001B[38;5;124;43m./cifar100vgg.h5\u001B[39;49m\u001B[38;5;124;43m'\u001B[39;49m\u001B[43m)\u001B[49m\n",
      "File \u001B[1;32m~\\PycharmProjects\\vgg-test\\.venv\\lib\\site-packages\\keras\\src\\saving\\saving_api.py:262\u001B[0m, in \u001B[0;36mload_model\u001B[1;34m(filepath, custom_objects, compile, safe_mode, **kwargs)\u001B[0m\n\u001B[0;32m    254\u001B[0m     \u001B[38;5;28;01mreturn\u001B[39;00m saving_lib\u001B[38;5;241m.\u001B[39mload_model(\n\u001B[0;32m    255\u001B[0m         filepath,\n\u001B[0;32m    256\u001B[0m         custom_objects\u001B[38;5;241m=\u001B[39mcustom_objects,\n\u001B[0;32m    257\u001B[0m         \u001B[38;5;28mcompile\u001B[39m\u001B[38;5;241m=\u001B[39m\u001B[38;5;28mcompile\u001B[39m,\n\u001B[0;32m    258\u001B[0m         safe_mode\u001B[38;5;241m=\u001B[39msafe_mode,\n\u001B[0;32m    259\u001B[0m     )\n\u001B[0;32m    261\u001B[0m \u001B[38;5;66;03m# Legacy case.\u001B[39;00m\n\u001B[1;32m--> 262\u001B[0m \u001B[38;5;28;01mreturn\u001B[39;00m legacy_sm_saving_lib\u001B[38;5;241m.\u001B[39mload_model(\n\u001B[0;32m    263\u001B[0m     filepath, custom_objects\u001B[38;5;241m=\u001B[39mcustom_objects, \u001B[38;5;28mcompile\u001B[39m\u001B[38;5;241m=\u001B[39m\u001B[38;5;28mcompile\u001B[39m, \u001B[38;5;241m*\u001B[39m\u001B[38;5;241m*\u001B[39mkwargs\n\u001B[0;32m    264\u001B[0m )\n",
      "File \u001B[1;32m~\\PycharmProjects\\vgg-test\\.venv\\lib\\site-packages\\keras\\src\\utils\\traceback_utils.py:70\u001B[0m, in \u001B[0;36mfilter_traceback.<locals>.error_handler\u001B[1;34m(*args, **kwargs)\u001B[0m\n\u001B[0;32m     67\u001B[0m     filtered_tb \u001B[38;5;241m=\u001B[39m _process_traceback_frames(e\u001B[38;5;241m.\u001B[39m__traceback__)\n\u001B[0;32m     68\u001B[0m     \u001B[38;5;66;03m# To get the full stack trace, call:\u001B[39;00m\n\u001B[0;32m     69\u001B[0m     \u001B[38;5;66;03m# `tf.debugging.disable_traceback_filtering()`\u001B[39;00m\n\u001B[1;32m---> 70\u001B[0m     \u001B[38;5;28;01mraise\u001B[39;00m e\u001B[38;5;241m.\u001B[39mwith_traceback(filtered_tb) \u001B[38;5;28;01mfrom\u001B[39;00m \u001B[38;5;28;01mNone\u001B[39;00m\n\u001B[0;32m     71\u001B[0m \u001B[38;5;28;01mfinally\u001B[39;00m:\n\u001B[0;32m     72\u001B[0m     \u001B[38;5;28;01mdel\u001B[39;00m filtered_tb\n",
      "File \u001B[1;32m~\\PycharmProjects\\vgg-test\\.venv\\lib\\site-packages\\keras\\src\\saving\\legacy\\hdf5_format.py:197\u001B[0m, in \u001B[0;36mload_model_from_hdf5\u001B[1;34m(filepath, custom_objects, compile)\u001B[0m\n\u001B[0;32m    195\u001B[0m model_config \u001B[38;5;241m=\u001B[39m f\u001B[38;5;241m.\u001B[39mattrs\u001B[38;5;241m.\u001B[39mget(\u001B[38;5;124m\"\u001B[39m\u001B[38;5;124mmodel_config\u001B[39m\u001B[38;5;124m\"\u001B[39m)\n\u001B[0;32m    196\u001B[0m \u001B[38;5;28;01mif\u001B[39;00m model_config \u001B[38;5;129;01mis\u001B[39;00m \u001B[38;5;28;01mNone\u001B[39;00m:\n\u001B[1;32m--> 197\u001B[0m     \u001B[38;5;28;01mraise\u001B[39;00m \u001B[38;5;167;01mValueError\u001B[39;00m(\n\u001B[0;32m    198\u001B[0m         \u001B[38;5;124mf\u001B[39m\u001B[38;5;124m\"\u001B[39m\u001B[38;5;124mNo model config found in the file at \u001B[39m\u001B[38;5;132;01m{\u001B[39;00mfilepath\u001B[38;5;132;01m}\u001B[39;00m\u001B[38;5;124m.\u001B[39m\u001B[38;5;124m\"\u001B[39m\n\u001B[0;32m    199\u001B[0m     )\n\u001B[0;32m    200\u001B[0m \u001B[38;5;28;01mif\u001B[39;00m \u001B[38;5;28mhasattr\u001B[39m(model_config, \u001B[38;5;124m\"\u001B[39m\u001B[38;5;124mdecode\u001B[39m\u001B[38;5;124m\"\u001B[39m):\n\u001B[0;32m    201\u001B[0m     model_config \u001B[38;5;241m=\u001B[39m model_config\u001B[38;5;241m.\u001B[39mdecode(\u001B[38;5;124m\"\u001B[39m\u001B[38;5;124mutf-8\u001B[39m\u001B[38;5;124m\"\u001B[39m)\n",
      "\u001B[1;31mValueError\u001B[0m: No model config found in the file at <tensorflow.python.platform.gfile.GFile object at 0x000002230B85D730>."
     ]
    }
   ],
   "source": [
    "from keras.models import load_model\n",
    "from keras.applications.vgg16 import VGG16\n",
    "model = load_model('."
   ],
   "metadata": {
    "collapsed": false,
    "ExecuteTime": {
     "end_time": "2024-02-08T14:58:01.898764700Z",
     "start_time": "2024-02-08T14:58:01.797552400Z"
    }
   },
   "id": "dbca03036b21a975",
   "execution_count": 14
  },
  {
   "cell_type": "code",
   "outputs": [
    {
     "ename": "OSError",
     "evalue": "No file or directory found at model.hdf5",
     "output_type": "error",
     "traceback": [
      "\u001B[1;31m---------------------------------------------------------------------------\u001B[0m",
      "\u001B[1;31mOSError\u001B[0m                                   Traceback (most recent call last)",
      "Cell \u001B[1;32mIn[18], line 5\u001B[0m\n\u001B[0;32m      2\u001B[0m \u001B[38;5;28;01mfrom\u001B[39;00m \u001B[38;5;21;01mkeras\u001B[39;00m\u001B[38;5;21;01m.\u001B[39;00m\u001B[38;5;21;01mmodels\u001B[39;00m \u001B[38;5;28;01mimport\u001B[39;00m load_model\n\u001B[0;32m      4\u001B[0m saver \u001B[38;5;241m=\u001B[39m tf\u001B[38;5;241m.\u001B[39mtrain\u001B[38;5;241m.\u001B[39mCheckpoint()\n\u001B[1;32m----> 5\u001B[0m model \u001B[38;5;241m=\u001B[39m \u001B[43mload_model\u001B[49m\u001B[43m(\u001B[49m\u001B[38;5;124;43m'\u001B[39;49m\u001B[38;5;124;43mmodel.hdf5\u001B[39;49m\u001B[38;5;124;43m'\u001B[39;49m\u001B[43m,\u001B[49m\u001B[43m \u001B[49m\u001B[38;5;28;43mcompile\u001B[39;49m\u001B[38;5;241;43m=\u001B[39;49m\u001B[38;5;28;43;01mFalse\u001B[39;49;00m\u001B[43m)\u001B[49m\n\u001B[0;32m      6\u001B[0m sess \u001B[38;5;241m=\u001B[39m tf\u001B[38;5;241m.\u001B[39mcompat\u001B[38;5;241m.\u001B[39mv1\u001B[38;5;241m.\u001B[39mkeras\u001B[38;5;241m.\u001B[39mbackend\u001B[38;5;241m.\u001B[39mget_session()\n\u001B[0;32m      8\u001B[0m save_path \u001B[38;5;241m=\u001B[39m saver\u001B[38;5;241m.\u001B[39msave(\u001B[38;5;124m\"\u001B[39m\u001B[38;5;124mmodel.ckpt\u001B[39m\u001B[38;5;124m\"\u001B[39m)\n",
      "File \u001B[1;32m~\\PycharmProjects\\vgg-test\\.venv\\lib\\site-packages\\keras\\src\\saving\\saving_api.py:262\u001B[0m, in \u001B[0;36mload_model\u001B[1;34m(filepath, custom_objects, compile, safe_mode, **kwargs)\u001B[0m\n\u001B[0;32m    254\u001B[0m     \u001B[38;5;28;01mreturn\u001B[39;00m saving_lib\u001B[38;5;241m.\u001B[39mload_model(\n\u001B[0;32m    255\u001B[0m         filepath,\n\u001B[0;32m    256\u001B[0m         custom_objects\u001B[38;5;241m=\u001B[39mcustom_objects,\n\u001B[0;32m    257\u001B[0m         \u001B[38;5;28mcompile\u001B[39m\u001B[38;5;241m=\u001B[39m\u001B[38;5;28mcompile\u001B[39m,\n\u001B[0;32m    258\u001B[0m         safe_mode\u001B[38;5;241m=\u001B[39msafe_mode,\n\u001B[0;32m    259\u001B[0m     )\n\u001B[0;32m    261\u001B[0m \u001B[38;5;66;03m# Legacy case.\u001B[39;00m\n\u001B[1;32m--> 262\u001B[0m \u001B[38;5;28;01mreturn\u001B[39;00m legacy_sm_saving_lib\u001B[38;5;241m.\u001B[39mload_model(\n\u001B[0;32m    263\u001B[0m     filepath, custom_objects\u001B[38;5;241m=\u001B[39mcustom_objects, \u001B[38;5;28mcompile\u001B[39m\u001B[38;5;241m=\u001B[39m\u001B[38;5;28mcompile\u001B[39m, \u001B[38;5;241m*\u001B[39m\u001B[38;5;241m*\u001B[39mkwargs\n\u001B[0;32m    264\u001B[0m )\n",
      "File \u001B[1;32m~\\PycharmProjects\\vgg-test\\.venv\\lib\\site-packages\\keras\\src\\utils\\traceback_utils.py:70\u001B[0m, in \u001B[0;36mfilter_traceback.<locals>.error_handler\u001B[1;34m(*args, **kwargs)\u001B[0m\n\u001B[0;32m     67\u001B[0m     filtered_tb \u001B[38;5;241m=\u001B[39m _process_traceback_frames(e\u001B[38;5;241m.\u001B[39m__traceback__)\n\u001B[0;32m     68\u001B[0m     \u001B[38;5;66;03m# To get the full stack trace, call:\u001B[39;00m\n\u001B[0;32m     69\u001B[0m     \u001B[38;5;66;03m# `tf.debugging.disable_traceback_filtering()`\u001B[39;00m\n\u001B[1;32m---> 70\u001B[0m     \u001B[38;5;28;01mraise\u001B[39;00m e\u001B[38;5;241m.\u001B[39mwith_traceback(filtered_tb) \u001B[38;5;28;01mfrom\u001B[39;00m \u001B[38;5;28;01mNone\u001B[39;00m\n\u001B[0;32m     71\u001B[0m \u001B[38;5;28;01mfinally\u001B[39;00m:\n\u001B[0;32m     72\u001B[0m     \u001B[38;5;28;01mdel\u001B[39;00m filtered_tb\n",
      "File \u001B[1;32m~\\PycharmProjects\\vgg-test\\.venv\\lib\\site-packages\\keras\\src\\saving\\legacy\\save.py:234\u001B[0m, in \u001B[0;36mload_model\u001B[1;34m(filepath, custom_objects, compile, options)\u001B[0m\n\u001B[0;32m    232\u001B[0m \u001B[38;5;28;01mif\u001B[39;00m \u001B[38;5;28misinstance\u001B[39m(filepath_str, \u001B[38;5;28mstr\u001B[39m):\n\u001B[0;32m    233\u001B[0m     \u001B[38;5;28;01mif\u001B[39;00m \u001B[38;5;129;01mnot\u001B[39;00m tf\u001B[38;5;241m.\u001B[39mio\u001B[38;5;241m.\u001B[39mgfile\u001B[38;5;241m.\u001B[39mexists(filepath_str):\n\u001B[1;32m--> 234\u001B[0m         \u001B[38;5;28;01mraise\u001B[39;00m \u001B[38;5;167;01mIOError\u001B[39;00m(\n\u001B[0;32m    235\u001B[0m             \u001B[38;5;124mf\u001B[39m\u001B[38;5;124m\"\u001B[39m\u001B[38;5;124mNo file or directory found at \u001B[39m\u001B[38;5;132;01m{\u001B[39;00mfilepath_str\u001B[38;5;132;01m}\u001B[39;00m\u001B[38;5;124m\"\u001B[39m\n\u001B[0;32m    236\u001B[0m         )\n\u001B[0;32m    238\u001B[0m     \u001B[38;5;28;01mif\u001B[39;00m tf\u001B[38;5;241m.\u001B[39mio\u001B[38;5;241m.\u001B[39mgfile\u001B[38;5;241m.\u001B[39misdir(filepath_str):\n\u001B[0;32m    239\u001B[0m         \u001B[38;5;28;01mreturn\u001B[39;00m saved_model_load\u001B[38;5;241m.\u001B[39mload(\n\u001B[0;32m    240\u001B[0m             filepath_str, \u001B[38;5;28mcompile\u001B[39m, options\n\u001B[0;32m    241\u001B[0m         )\n",
      "\u001B[1;31mOSError\u001B[0m: No file or directory found at model.hdf5"
     ]
    }
   ],
   "source": [
    "import tensorflow as tf\n",
    "from keras.models import load_model\n",
    "\n",
    "saver = tf.train.Checkpoint()\n",
    "model = load_model('model.hdf5', compile=False)\n",
    "sess = tf.compat.v1.keras.backend.get_session()\n",
    "\n",
    "save_path = saver.save(\"model.ckpt\")"
   ],
   "metadata": {
    "collapsed": false,
    "ExecuteTime": {
     "end_time": "2024-02-08T15:04:26.765047100Z",
     "start_time": "2024-02-08T15:04:26.678052900Z"
    }
   },
   "id": "891fcab8508c2524",
   "execution_count": 18
  },
  {
   "cell_type": "code",
   "outputs": [],
   "source": [],
   "metadata": {
    "collapsed": false
   },
   "id": "dd5e5aa83d36de2c"
  }
 ],
 "metadata": {
  "kernelspec": {
   "display_name": "Python 3",
   "language": "python",
   "name": "python3"
  },
  "language_info": {
   "codemirror_mode": {
    "name": "ipython",
    "version": 2
   },
   "file_extension": ".py",
   "mimetype": "text/x-python",
   "name": "python",
   "nbconvert_exporter": "python",
   "pygments_lexer": "ipython2",
   "version": "2.7.6"
  }
 },
 "nbformat": 4,
 "nbformat_minor": 5
}
