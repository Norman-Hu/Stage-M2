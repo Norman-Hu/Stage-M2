{
 "cells": [
  {
   "cell_type": "markdown",
   "source": [
    "VGG-16 test on images"
   ],
   "metadata": {
    "collapsed": false
   },
   "id": "252f9b57dc579447"
  },
  {
   "cell_type": "markdown",
   "source": [
    "Nous allons utiliser le modèle VGG-16 de Tensorflow"
   ],
   "metadata": {
    "collapsed": false
   },
   "id": "380880a6f01d84c1"
  },
  {
   "cell_type": "code",
   "outputs": [
    {
     "name": "stdout",
     "output_type": "stream",
     "text": [
      "Requirement already satisfied: pip in c:\\users\\norma\\pycharmprojects\\vgg-test\\.venv\\lib\\site-packages (24.0)\n"
     ]
    }
   ],
   "source": [
    "import sys\n",
    "!{sys.executable} -m pip install --upgrade pip"
   ],
   "metadata": {
    "collapsed": false,
    "ExecuteTime": {
     "end_time": "2024-02-09T08:13:13.141311100Z",
     "start_time": "2024-02-09T08:13:10.038289Z"
    }
   },
   "id": "7be5cf3b8dce0e05",
   "execution_count": 1
  },
  {
   "cell_type": "code",
   "outputs": [
    {
     "name": "stdout",
     "output_type": "stream",
     "text": [
      "Requirement already satisfied: numpy in c:\\users\\norma\\pycharmprojects\\vgg-test\\.venv\\lib\\site-packages (1.26.3)\n",
      "Requirement already satisfied: tensorflow in c:\\users\\norma\\pycharmprojects\\vgg-test\\.venv\\lib\\site-packages (2.15.0)\n",
      "Requirement already satisfied: tensorflow-intel==2.15.0 in c:\\users\\norma\\pycharmprojects\\vgg-test\\.venv\\lib\\site-packages (from tensorflow) (2.15.0)\n",
      "Requirement already satisfied: absl-py>=1.0.0 in c:\\users\\norma\\pycharmprojects\\vgg-test\\.venv\\lib\\site-packages (from tensorflow-intel==2.15.0->tensorflow) (2.1.0)\n",
      "Requirement already satisfied: astunparse>=1.6.0 in c:\\users\\norma\\pycharmprojects\\vgg-test\\.venv\\lib\\site-packages (from tensorflow-intel==2.15.0->tensorflow) (1.6.3)\n",
      "Requirement already satisfied: flatbuffers>=23.5.26 in c:\\users\\norma\\pycharmprojects\\vgg-test\\.venv\\lib\\site-packages (from tensorflow-intel==2.15.0->tensorflow) (23.5.26)\n",
      "Requirement already satisfied: gast!=0.5.0,!=0.5.1,!=0.5.2,>=0.2.1 in c:\\users\\norma\\pycharmprojects\\vgg-test\\.venv\\lib\\site-packages (from tensorflow-intel==2.15.0->tensorflow) (0.5.4)\n",
      "Requirement already satisfied: google-pasta>=0.1.1 in c:\\users\\norma\\pycharmprojects\\vgg-test\\.venv\\lib\\site-packages (from tensorflow-intel==2.15.0->tensorflow) (0.2.0)\n",
      "Requirement already satisfied: h5py>=2.9.0 in c:\\users\\norma\\pycharmprojects\\vgg-test\\.venv\\lib\\site-packages (from tensorflow-intel==2.15.0->tensorflow) (3.10.0)\n",
      "Requirement already satisfied: libclang>=13.0.0 in c:\\users\\norma\\pycharmprojects\\vgg-test\\.venv\\lib\\site-packages (from tensorflow-intel==2.15.0->tensorflow) (16.0.6)\n",
      "Requirement already satisfied: ml-dtypes~=0.2.0 in c:\\users\\norma\\pycharmprojects\\vgg-test\\.venv\\lib\\site-packages (from tensorflow-intel==2.15.0->tensorflow) (0.2.0)\n",
      "Requirement already satisfied: numpy<2.0.0,>=1.23.5 in c:\\users\\norma\\pycharmprojects\\vgg-test\\.venv\\lib\\site-packages (from tensorflow-intel==2.15.0->tensorflow) (1.26.3)\n",
      "Requirement already satisfied: opt-einsum>=2.3.2 in c:\\users\\norma\\pycharmprojects\\vgg-test\\.venv\\lib\\site-packages (from tensorflow-intel==2.15.0->tensorflow) (3.3.0)\n",
      "Requirement already satisfied: packaging in c:\\users\\norma\\pycharmprojects\\vgg-test\\.venv\\lib\\site-packages (from tensorflow-intel==2.15.0->tensorflow) (23.2)\n",
      "Requirement already satisfied: protobuf!=4.21.0,!=4.21.1,!=4.21.2,!=4.21.3,!=4.21.4,!=4.21.5,<5.0.0dev,>=3.20.3 in c:\\users\\norma\\pycharmprojects\\vgg-test\\.venv\\lib\\site-packages (from tensorflow-intel==2.15.0->tensorflow) (4.23.4)\n",
      "Requirement already satisfied: setuptools in c:\\users\\norma\\pycharmprojects\\vgg-test\\.venv\\lib\\site-packages (from tensorflow-intel==2.15.0->tensorflow) (68.2.0)\n",
      "Requirement already satisfied: six>=1.12.0 in c:\\users\\norma\\pycharmprojects\\vgg-test\\.venv\\lib\\site-packages (from tensorflow-intel==2.15.0->tensorflow) (1.16.0)\n",
      "Requirement already satisfied: termcolor>=1.1.0 in c:\\users\\norma\\pycharmprojects\\vgg-test\\.venv\\lib\\site-packages (from tensorflow-intel==2.15.0->tensorflow) (2.4.0)\n",
      "Requirement already satisfied: typing-extensions>=3.6.6 in c:\\users\\norma\\pycharmprojects\\vgg-test\\.venv\\lib\\site-packages (from tensorflow-intel==2.15.0->tensorflow) (4.9.0)\n",
      "Requirement already satisfied: wrapt<1.15,>=1.11.0 in c:\\users\\norma\\pycharmprojects\\vgg-test\\.venv\\lib\\site-packages (from tensorflow-intel==2.15.0->tensorflow) (1.14.1)\n",
      "Requirement already satisfied: tensorflow-io-gcs-filesystem>=0.23.1 in c:\\users\\norma\\pycharmprojects\\vgg-test\\.venv\\lib\\site-packages (from tensorflow-intel==2.15.0->tensorflow) (0.31.0)\n",
      "Requirement already satisfied: grpcio<2.0,>=1.24.3 in c:\\users\\norma\\pycharmprojects\\vgg-test\\.venv\\lib\\site-packages (from tensorflow-intel==2.15.0->tensorflow) (1.60.1)\n",
      "Requirement already satisfied: tensorboard<2.16,>=2.15 in c:\\users\\norma\\pycharmprojects\\vgg-test\\.venv\\lib\\site-packages (from tensorflow-intel==2.15.0->tensorflow) (2.15.1)\n",
      "Requirement already satisfied: tensorflow-estimator<2.16,>=2.15.0 in c:\\users\\norma\\pycharmprojects\\vgg-test\\.venv\\lib\\site-packages (from tensorflow-intel==2.15.0->tensorflow) (2.15.0)\n",
      "Requirement already satisfied: keras<2.16,>=2.15.0 in c:\\users\\norma\\pycharmprojects\\vgg-test\\.venv\\lib\\site-packages (from tensorflow-intel==2.15.0->tensorflow) (2.15.0)\n",
      "Requirement already satisfied: wheel<1.0,>=0.23.0 in c:\\users\\norma\\pycharmprojects\\vgg-test\\.venv\\lib\\site-packages (from astunparse>=1.6.0->tensorflow-intel==2.15.0->tensorflow) (0.41.2)\n",
      "Requirement already satisfied: google-auth<3,>=1.6.3 in c:\\users\\norma\\pycharmprojects\\vgg-test\\.venv\\lib\\site-packages (from tensorboard<2.16,>=2.15->tensorflow-intel==2.15.0->tensorflow) (2.27.0)\n",
      "Requirement already satisfied: google-auth-oauthlib<2,>=0.5 in c:\\users\\norma\\pycharmprojects\\vgg-test\\.venv\\lib\\site-packages (from tensorboard<2.16,>=2.15->tensorflow-intel==2.15.0->tensorflow) (1.2.0)\n",
      "Requirement already satisfied: markdown>=2.6.8 in c:\\users\\norma\\pycharmprojects\\vgg-test\\.venv\\lib\\site-packages (from tensorboard<2.16,>=2.15->tensorflow-intel==2.15.0->tensorflow) (3.5.2)\n",
      "Requirement already satisfied: requests<3,>=2.21.0 in c:\\users\\norma\\pycharmprojects\\vgg-test\\.venv\\lib\\site-packages (from tensorboard<2.16,>=2.15->tensorflow-intel==2.15.0->tensorflow) (2.31.0)\n",
      "Requirement already satisfied: tensorboard-data-server<0.8.0,>=0.7.0 in c:\\users\\norma\\pycharmprojects\\vgg-test\\.venv\\lib\\site-packages (from tensorboard<2.16,>=2.15->tensorflow-intel==2.15.0->tensorflow) (0.7.2)\n",
      "Requirement already satisfied: werkzeug>=1.0.1 in c:\\users\\norma\\pycharmprojects\\vgg-test\\.venv\\lib\\site-packages (from tensorboard<2.16,>=2.15->tensorflow-intel==2.15.0->tensorflow) (3.0.1)\n",
      "Requirement already satisfied: cachetools<6.0,>=2.0.0 in c:\\users\\norma\\pycharmprojects\\vgg-test\\.venv\\lib\\site-packages (from google-auth<3,>=1.6.3->tensorboard<2.16,>=2.15->tensorflow-intel==2.15.0->tensorflow) (5.3.2)\n",
      "Requirement already satisfied: pyasn1-modules>=0.2.1 in c:\\users\\norma\\pycharmprojects\\vgg-test\\.venv\\lib\\site-packages (from google-auth<3,>=1.6.3->tensorboard<2.16,>=2.15->tensorflow-intel==2.15.0->tensorflow) (0.3.0)\n",
      "Requirement already satisfied: rsa<5,>=3.1.4 in c:\\users\\norma\\pycharmprojects\\vgg-test\\.venv\\lib\\site-packages (from google-auth<3,>=1.6.3->tensorboard<2.16,>=2.15->tensorflow-intel==2.15.0->tensorflow) (4.9)\n",
      "Requirement already satisfied: requests-oauthlib>=0.7.0 in c:\\users\\norma\\pycharmprojects\\vgg-test\\.venv\\lib\\site-packages (from google-auth-oauthlib<2,>=0.5->tensorboard<2.16,>=2.15->tensorflow-intel==2.15.0->tensorflow) (1.3.1)\n",
      "Requirement already satisfied: importlib-metadata>=4.4 in c:\\users\\norma\\pycharmprojects\\vgg-test\\.venv\\lib\\site-packages (from markdown>=2.6.8->tensorboard<2.16,>=2.15->tensorflow-intel==2.15.0->tensorflow) (7.0.1)\n",
      "Requirement already satisfied: charset-normalizer<4,>=2 in c:\\users\\norma\\pycharmprojects\\vgg-test\\.venv\\lib\\site-packages (from requests<3,>=2.21.0->tensorboard<2.16,>=2.15->tensorflow-intel==2.15.0->tensorflow) (3.3.2)\n",
      "Requirement already satisfied: idna<4,>=2.5 in c:\\users\\norma\\pycharmprojects\\vgg-test\\.venv\\lib\\site-packages (from requests<3,>=2.21.0->tensorboard<2.16,>=2.15->tensorflow-intel==2.15.0->tensorflow) (3.6)\n",
      "Requirement already satisfied: urllib3<3,>=1.21.1 in c:\\users\\norma\\pycharmprojects\\vgg-test\\.venv\\lib\\site-packages (from requests<3,>=2.21.0->tensorboard<2.16,>=2.15->tensorflow-intel==2.15.0->tensorflow) (2.2.0)\n",
      "Requirement already satisfied: certifi>=2017.4.17 in c:\\users\\norma\\pycharmprojects\\vgg-test\\.venv\\lib\\site-packages (from requests<3,>=2.21.0->tensorboard<2.16,>=2.15->tensorflow-intel==2.15.0->tensorflow) (2024.2.2)\n",
      "Requirement already satisfied: MarkupSafe>=2.1.1 in c:\\users\\norma\\pycharmprojects\\vgg-test\\.venv\\lib\\site-packages (from werkzeug>=1.0.1->tensorboard<2.16,>=2.15->tensorflow-intel==2.15.0->tensorflow) (2.1.5)\n",
      "Requirement already satisfied: zipp>=0.5 in c:\\users\\norma\\pycharmprojects\\vgg-test\\.venv\\lib\\site-packages (from importlib-metadata>=4.4->markdown>=2.6.8->tensorboard<2.16,>=2.15->tensorflow-intel==2.15.0->tensorflow) (3.17.0)\n",
      "Requirement already satisfied: pyasn1<0.6.0,>=0.4.6 in c:\\users\\norma\\pycharmprojects\\vgg-test\\.venv\\lib\\site-packages (from pyasn1-modules>=0.2.1->google-auth<3,>=1.6.3->tensorboard<2.16,>=2.15->tensorflow-intel==2.15.0->tensorflow) (0.5.1)\n",
      "Requirement already satisfied: oauthlib>=3.0.0 in c:\\users\\norma\\pycharmprojects\\vgg-test\\.venv\\lib\\site-packages (from requests-oauthlib>=0.7.0->google-auth-oauthlib<2,>=0.5->tensorboard<2.16,>=2.15->tensorflow-intel==2.15.0->tensorflow) (3.2.2)\n",
      "Requirement already satisfied: tf_slim in c:\\users\\norma\\pycharmprojects\\vgg-test\\.venv\\lib\\site-packages (1.1.0)\n",
      "Requirement already satisfied: absl-py>=0.2.2 in c:\\users\\norma\\pycharmprojects\\vgg-test\\.venv\\lib\\site-packages (from tf_slim) (2.1.0)\n",
      "Requirement already satisfied: matplotlib in c:\\users\\norma\\pycharmprojects\\vgg-test\\.venv\\lib\\site-packages (3.8.2)\n",
      "Requirement already satisfied: contourpy>=1.0.1 in c:\\users\\norma\\pycharmprojects\\vgg-test\\.venv\\lib\\site-packages (from matplotlib) (1.2.0)\n",
      "Requirement already satisfied: cycler>=0.10 in c:\\users\\norma\\pycharmprojects\\vgg-test\\.venv\\lib\\site-packages (from matplotlib) (0.12.1)\n",
      "Requirement already satisfied: fonttools>=4.22.0 in c:\\users\\norma\\pycharmprojects\\vgg-test\\.venv\\lib\\site-packages (from matplotlib) (4.47.2)\n",
      "Requirement already satisfied: kiwisolver>=1.3.1 in c:\\users\\norma\\pycharmprojects\\vgg-test\\.venv\\lib\\site-packages (from matplotlib) (1.4.5)\n",
      "Requirement already satisfied: numpy<2,>=1.21 in c:\\users\\norma\\pycharmprojects\\vgg-test\\.venv\\lib\\site-packages (from matplotlib) (1.26.3)\n",
      "Requirement already satisfied: packaging>=20.0 in c:\\users\\norma\\pycharmprojects\\vgg-test\\.venv\\lib\\site-packages (from matplotlib) (23.2)\n",
      "Requirement already satisfied: pillow>=8 in c:\\users\\norma\\pycharmprojects\\vgg-test\\.venv\\lib\\site-packages (from matplotlib) (10.2.0)\n",
      "Requirement already satisfied: pyparsing>=2.3.1 in c:\\users\\norma\\pycharmprojects\\vgg-test\\.venv\\lib\\site-packages (from matplotlib) (3.1.1)\n",
      "Requirement already satisfied: python-dateutil>=2.7 in c:\\users\\norma\\pycharmprojects\\vgg-test\\.venv\\lib\\site-packages (from matplotlib) (2.8.2)\n",
      "Requirement already satisfied: importlib-resources>=3.2.0 in c:\\users\\norma\\pycharmprojects\\vgg-test\\.venv\\lib\\site-packages (from matplotlib) (6.1.1)\n",
      "Requirement already satisfied: zipp>=3.1.0 in c:\\users\\norma\\pycharmprojects\\vgg-test\\.venv\\lib\\site-packages (from importlib-resources>=3.2.0->matplotlib) (3.17.0)\n",
      "Requirement already satisfied: six>=1.5 in c:\\users\\norma\\pycharmprojects\\vgg-test\\.venv\\lib\\site-packages (from python-dateutil>=2.7->matplotlib) (1.16.0)\n"
     ]
    }
   ],
   "source": [
    "!{sys.executable} -m pip install numpy\n",
    "!{sys.executable} -m pip install tensorflow\n",
    "!{sys.executable} -m pip install tf_slim\n",
    "!{sys.executable} -m pip install matplotlib"
   ],
   "metadata": {
    "collapsed": false,
    "ExecuteTime": {
     "end_time": "2024-02-09T08:13:31.549212500Z",
     "start_time": "2024-02-09T08:13:23.146400200Z"
    }
   },
   "id": "494381634b3f079b",
   "execution_count": 2
  },
  {
   "cell_type": "code",
   "outputs": [
    {
     "name": "stdout",
     "output_type": "stream",
     "text": [
      "WARNING:tensorflow:From C:\\Users\\norma\\PycharmProjects\\vgg-test\\.venv\\lib\\site-packages\\keras\\src\\losses.py:2976: The name tf.losses.sparse_softmax_cross_entropy is deprecated. Please use tf.compat.v1.losses.sparse_softmax_cross_entropy instead.\n"
     ]
    }
   ],
   "source": [
    "from datasets import dataset_utils\n",
    "import tensorflow as tf\n",
    "\n",
    "url = \"http://download.tensorflow.org/models/vgg_16_2016_08_28.tar.gz\"\n",
    "checkpoints_dir = '/tmp/checkpoints'\n",
    "\n",
    "if not tf.io.gfile.exists(checkpoints_dir):\n",
    "    tf.io.gfile.makedirs(checkpoints_dir)\n",
    "\n",
    "#dataset_utils.download_and_uncompress_tarball(url, \"checkpoints_dir\")\n"
   ],
   "metadata": {
    "collapsed": false,
    "ExecuteTime": {
     "end_time": "2024-02-09T08:13:40.958983600Z",
     "start_time": "2024-02-09T08:13:31.537696600Z"
    }
   },
   "id": "f5694437f048e054",
   "execution_count": 3
  },
  {
   "cell_type": "code",
   "execution_count": 4,
   "id": "initial_id",
   "metadata": {
    "collapsed": true,
    "ExecuteTime": {
     "end_time": "2024-02-09T08:26:01.807291100Z",
     "start_time": "2024-02-09T08:25:59.910335400Z"
    }
   },
   "outputs": [],
   "source": [
    "import numpy as np\n",
    "import os\n",
    "import tensorflow as tf\n",
    "\n",
    "try:\n",
    "    import urllib2\n",
    "except ImportError:\n",
    "    import urllib.request as urllib\n",
    "\n",
    "from datasets import imagenet\n",
    "from nets import vgg\n",
    "from preprocessing import vgg_preprocessing\n",
    "import matplotlib.pyplot as plt\n",
    "\n",
    "import tf_slim as slim\n",
    "\n",
    "image_size = vgg.vgg_16.default_image_size\n"
   ]
  },
  {
   "cell_type": "code",
   "outputs": [
    {
     "name": "stdout",
     "output_type": "stream",
     "text": [
      "INFO:tensorflow:Restoring parameters from ./cifar100vgg.ckpt\n",
      "WARNING:tensorflow:Restoring an object-based checkpoint using a name-based saver. This may be somewhat fragile, and will re-build the Saver. Instead, consider loading object-based checkpoints using tf.train.Checkpoint().\n"
     ]
    },
    {
     "ename": "NotFoundError",
     "evalue": "\n\nExisting variables not in the checkpoint: vgg_16/conv1/conv1_1/biases, vgg_16/conv1/conv1_1/weights, vgg_16/conv1/conv1_2/biases, vgg_16/conv1/conv1_2/weights, vgg_16/conv2/conv2_1/biases, vgg_16/conv2/conv2_1/weights, vgg_16/conv2/conv2_2/biases, vgg_16/conv2/conv2_2/weights, vgg_16/conv3/conv3_1/biases, vgg_16/conv3/conv3_1/weights, vgg_16/conv3/conv3_2/biases, vgg_16/conv3/conv3_2/weights, vgg_16/conv3/conv3_3/biases, vgg_16/conv3/conv3_3/weights, vgg_16/conv4/conv4_1/biases, vgg_16/conv4/conv4_1/weights, vgg_16/conv4/conv4_2/biases, vgg_16/conv4/conv4_2/weights, vgg_16/conv4/conv4_3/biases, vgg_16/conv4/conv4_3/weights, vgg_16/conv5/conv5_1/biases, vgg_16/conv5/conv5_1/weights, vgg_16/conv5/conv5_2/biases, vgg_16/conv5/conv5_2/weights, vgg_16/conv5/conv5_3/biases, vgg_16/conv5/conv5_3/weights, vgg_16/fc6/biases, vgg_16/fc6/weights, vgg_16/fc7/biases, vgg_16/fc7/weights, vgg_16/fc8/biases, vgg_16/fc8/weights\n\nVariables names when this checkpoint was written which don't exist now: batch_normalization/beta, batch_normalization/gamma, batch_normalization/moving_mean, batch_normalization/moving_variance, batch_normalization_1/beta, batch_normalization_1/gamma, batch_normalization_1/moving_mean, batch_normalization_1/moving_variance, batch_normalization_10/beta, batch_normalization_10/gamma, batch_normalization_10/moving_mean, batch_normalization_10/moving_variance, batch_normalization_11/beta, batch_normalization_11/gamma, batch_normalization_11/moving_mean, batch_normalization_11/moving_variance, batch_normalization_12/beta, batch_normalization_12/gamma, batch_normalization_12/moving_mean, batch_normalization_12/moving_variance, batch_normalization_13/beta, batch_normalization_13/gamma, batch_normalization_13/moving_mean, batch_normalization_13/moving_variance, batch_normalization_2/beta, batch_normalization_2/gamma, batch_normalization_2/moving_mean, batch_normalization_2/moving_variance, batch_normalization_3/beta, batch_normalization_3/gamma, batch_normalization_3/moving_mean, batch_normalization_3/moving_variance, batch_normalization_4/beta, batch_normalization_4/gamma, batch_normalization_4/moving_mean, batch_normalization_4/moving_variance, batch_normalization_5/beta, batch_normalization_5/gamma, batch_normalization_5/moving_mean, batch_normalization_5/moving_variance, batch_normalization_6/beta, batch_normalization_6/gamma, batch_normalization_6/moving_mean, batch_normalization_6/moving_variance, batch_normalization_7/beta, batch_normalization_7/gamma, batch_normalization_7/moving_mean, batch_normalization_7/moving_variance, batch_normalization_8/beta, batch_normalization_8/gamma, batch_normalization_8/moving_mean, batch_normalization_8/moving_variance, batch_normalization_9/beta, batch_normalization_9/gamma, batch_normalization_9/moving_mean, batch_normalization_9/moving_variance, conv2d/bias, conv2d/kernel, conv2d_1/bias, conv2d_1/kernel, conv2d_10/bias, conv2d_10/kernel, conv2d_11/bias, conv2d_11/kernel, conv2d_12/bias, conv2d_12/kernel, conv2d_2/bias, conv2d_2/kernel, conv2d_3/bias, conv2d_3/kernel, conv2d_4/bias, conv2d_4/kernel, conv2d_5/bias, conv2d_5/kernel, conv2d_6/bias, conv2d_6/kernel, conv2d_7/bias, conv2d_7/kernel, conv2d_8/bias, conv2d_8/kernel, conv2d_9/bias, conv2d_9/kernel, dense/bias, dense/kernel, dense_1/bias, dense_1/kernel\n\n(0 variable name(s) did match)\n\nCould not find some variables in the checkpoint (see names above). Saver was attempting to load an object-based checkpoint (saved using tf.train.Checkpoint or tf.keras.Model.save_weights) using variable names. If the checkpoint was written with eager execution enabled, it's possible that variable names have changed (for example missing a '_1' suffix). It's also possible that there are new variables which did not exist when the checkpoint was written. You can construct a Saver(var_list=...) with only the variables which previously existed, and if variable names have changed you may need to make this a dictionary with the old names as keys. If you're using an Estimator, you'll need to return a tf.train.Saver inside a tf.train.Scaffold from your model_fn.",
     "output_type": "error",
     "traceback": [
      "\u001B[1;31m---------------------------------------------------------------------------\u001B[0m",
      "\u001B[1;31mNotFoundError\u001B[0m                             Traceback (most recent call last)",
      "File \u001B[1;32m~\\PycharmProjects\\vgg-test\\.venv\\lib\\site-packages\\tensorflow\\python\\client\\session.py:1402\u001B[0m, in \u001B[0;36mBaseSession._do_call\u001B[1;34m(self, fn, *args)\u001B[0m\n\u001B[0;32m   1401\u001B[0m \u001B[38;5;28;01mtry\u001B[39;00m:\n\u001B[1;32m-> 1402\u001B[0m   \u001B[38;5;28;01mreturn\u001B[39;00m \u001B[43mfn\u001B[49m\u001B[43m(\u001B[49m\u001B[38;5;241;43m*\u001B[39;49m\u001B[43margs\u001B[49m\u001B[43m)\u001B[49m\n\u001B[0;32m   1403\u001B[0m \u001B[38;5;28;01mexcept\u001B[39;00m errors\u001B[38;5;241m.\u001B[39mOpError \u001B[38;5;28;01mas\u001B[39;00m e:\n",
      "File \u001B[1;32m~\\PycharmProjects\\vgg-test\\.venv\\lib\\site-packages\\tensorflow\\python\\client\\session.py:1385\u001B[0m, in \u001B[0;36mBaseSession._do_run.<locals>._run_fn\u001B[1;34m(feed_dict, fetch_list, target_list, options, run_metadata)\u001B[0m\n\u001B[0;32m   1384\u001B[0m \u001B[38;5;28mself\u001B[39m\u001B[38;5;241m.\u001B[39m_extend_graph()\n\u001B[1;32m-> 1385\u001B[0m \u001B[38;5;28;01mreturn\u001B[39;00m \u001B[38;5;28;43mself\u001B[39;49m\u001B[38;5;241;43m.\u001B[39;49m\u001B[43m_call_tf_sessionrun\u001B[49m\u001B[43m(\u001B[49m\u001B[43moptions\u001B[49m\u001B[43m,\u001B[49m\u001B[43m \u001B[49m\u001B[43mfeed_dict\u001B[49m\u001B[43m,\u001B[49m\u001B[43m \u001B[49m\u001B[43mfetch_list\u001B[49m\u001B[43m,\u001B[49m\n\u001B[0;32m   1386\u001B[0m \u001B[43m                                \u001B[49m\u001B[43mtarget_list\u001B[49m\u001B[43m,\u001B[49m\u001B[43m \u001B[49m\u001B[43mrun_metadata\u001B[49m\u001B[43m)\u001B[49m\n",
      "File \u001B[1;32m~\\PycharmProjects\\vgg-test\\.venv\\lib\\site-packages\\tensorflow\\python\\client\\session.py:1478\u001B[0m, in \u001B[0;36mBaseSession._call_tf_sessionrun\u001B[1;34m(self, options, feed_dict, fetch_list, target_list, run_metadata)\u001B[0m\n\u001B[0;32m   1476\u001B[0m \u001B[38;5;28;01mdef\u001B[39;00m \u001B[38;5;21m_call_tf_sessionrun\u001B[39m(\u001B[38;5;28mself\u001B[39m, options, feed_dict, fetch_list, target_list,\n\u001B[0;32m   1477\u001B[0m                         run_metadata):\n\u001B[1;32m-> 1478\u001B[0m   \u001B[38;5;28;01mreturn\u001B[39;00m \u001B[43mtf_session\u001B[49m\u001B[38;5;241;43m.\u001B[39;49m\u001B[43mTF_SessionRun_wrapper\u001B[49m\u001B[43m(\u001B[49m\u001B[38;5;28;43mself\u001B[39;49m\u001B[38;5;241;43m.\u001B[39;49m\u001B[43m_session\u001B[49m\u001B[43m,\u001B[49m\u001B[43m \u001B[49m\u001B[43moptions\u001B[49m\u001B[43m,\u001B[49m\u001B[43m \u001B[49m\u001B[43mfeed_dict\u001B[49m\u001B[43m,\u001B[49m\n\u001B[0;32m   1479\u001B[0m \u001B[43m                                          \u001B[49m\u001B[43mfetch_list\u001B[49m\u001B[43m,\u001B[49m\u001B[43m \u001B[49m\u001B[43mtarget_list\u001B[49m\u001B[43m,\u001B[49m\n\u001B[0;32m   1480\u001B[0m \u001B[43m                                          \u001B[49m\u001B[43mrun_metadata\u001B[49m\u001B[43m)\u001B[49m\n",
      "\u001B[1;31mNotFoundError\u001B[0m: Key vgg_16/conv1/conv1_1/biases not found in checkpoint\n\t [[{{node save/RestoreV2}}]]",
      "\nDuring handling of the above exception, another exception occurred:\n",
      "\u001B[1;31mNotFoundError\u001B[0m                             Traceback (most recent call last)",
      "File \u001B[1;32m~\\PycharmProjects\\vgg-test\\.venv\\lib\\site-packages\\tensorflow\\python\\training\\saver.py:1418\u001B[0m, in \u001B[0;36mSaver.restore\u001B[1;34m(self, sess, save_path)\u001B[0m\n\u001B[0;32m   1417\u001B[0m   \u001B[38;5;28;01melse\u001B[39;00m:\n\u001B[1;32m-> 1418\u001B[0m     \u001B[43msess\u001B[49m\u001B[38;5;241;43m.\u001B[39;49m\u001B[43mrun\u001B[49m\u001B[43m(\u001B[49m\u001B[38;5;28;43mself\u001B[39;49m\u001B[38;5;241;43m.\u001B[39;49m\u001B[43msaver_def\u001B[49m\u001B[38;5;241;43m.\u001B[39;49m\u001B[43mrestore_op_name\u001B[49m\u001B[43m,\u001B[49m\n\u001B[0;32m   1419\u001B[0m \u001B[43m             \u001B[49m\u001B[43m{\u001B[49m\u001B[38;5;28;43mself\u001B[39;49m\u001B[38;5;241;43m.\u001B[39;49m\u001B[43msaver_def\u001B[49m\u001B[38;5;241;43m.\u001B[39;49m\u001B[43mfilename_tensor_name\u001B[49m\u001B[43m:\u001B[49m\u001B[43m \u001B[49m\u001B[43msave_path\u001B[49m\u001B[43m}\u001B[49m\u001B[43m)\u001B[49m\n\u001B[0;32m   1420\u001B[0m \u001B[38;5;28;01mexcept\u001B[39;00m errors\u001B[38;5;241m.\u001B[39mNotFoundError \u001B[38;5;28;01mas\u001B[39;00m err:\n\u001B[0;32m   1421\u001B[0m   \u001B[38;5;66;03m# There are three common conditions that might cause this error:\u001B[39;00m\n\u001B[0;32m   1422\u001B[0m   \u001B[38;5;66;03m# 0. The file is missing. We ignore here, as this is checked above.\u001B[39;00m\n\u001B[1;32m   (...)\u001B[0m\n\u001B[0;32m   1426\u001B[0m   \u001B[38;5;66;03m# 1. The checkpoint would not be loaded successfully as is. Try to parse\u001B[39;00m\n\u001B[0;32m   1427\u001B[0m   \u001B[38;5;66;03m# it as an object-based checkpoint.\u001B[39;00m\n",
      "File \u001B[1;32m~\\PycharmProjects\\vgg-test\\.venv\\lib\\site-packages\\tensorflow\\python\\client\\session.py:972\u001B[0m, in \u001B[0;36mBaseSession.run\u001B[1;34m(self, fetches, feed_dict, options, run_metadata)\u001B[0m\n\u001B[0;32m    971\u001B[0m \u001B[38;5;28;01mtry\u001B[39;00m:\n\u001B[1;32m--> 972\u001B[0m   result \u001B[38;5;241m=\u001B[39m \u001B[38;5;28;43mself\u001B[39;49m\u001B[38;5;241;43m.\u001B[39;49m\u001B[43m_run\u001B[49m\u001B[43m(\u001B[49m\u001B[38;5;28;43;01mNone\u001B[39;49;00m\u001B[43m,\u001B[49m\u001B[43m \u001B[49m\u001B[43mfetches\u001B[49m\u001B[43m,\u001B[49m\u001B[43m \u001B[49m\u001B[43mfeed_dict\u001B[49m\u001B[43m,\u001B[49m\u001B[43m \u001B[49m\u001B[43moptions_ptr\u001B[49m\u001B[43m,\u001B[49m\n\u001B[0;32m    973\u001B[0m \u001B[43m                     \u001B[49m\u001B[43mrun_metadata_ptr\u001B[49m\u001B[43m)\u001B[49m\n\u001B[0;32m    974\u001B[0m   \u001B[38;5;28;01mif\u001B[39;00m run_metadata:\n",
      "File \u001B[1;32m~\\PycharmProjects\\vgg-test\\.venv\\lib\\site-packages\\tensorflow\\python\\client\\session.py:1215\u001B[0m, in \u001B[0;36mBaseSession._run\u001B[1;34m(self, handle, fetches, feed_dict, options, run_metadata)\u001B[0m\n\u001B[0;32m   1214\u001B[0m \u001B[38;5;28;01mif\u001B[39;00m final_fetches \u001B[38;5;129;01mor\u001B[39;00m final_targets \u001B[38;5;129;01mor\u001B[39;00m (handle \u001B[38;5;129;01mand\u001B[39;00m feed_dict_tensor):\n\u001B[1;32m-> 1215\u001B[0m   results \u001B[38;5;241m=\u001B[39m \u001B[38;5;28;43mself\u001B[39;49m\u001B[38;5;241;43m.\u001B[39;49m\u001B[43m_do_run\u001B[49m\u001B[43m(\u001B[49m\u001B[43mhandle\u001B[49m\u001B[43m,\u001B[49m\u001B[43m \u001B[49m\u001B[43mfinal_targets\u001B[49m\u001B[43m,\u001B[49m\u001B[43m \u001B[49m\u001B[43mfinal_fetches\u001B[49m\u001B[43m,\u001B[49m\n\u001B[0;32m   1216\u001B[0m \u001B[43m                         \u001B[49m\u001B[43mfeed_dict_tensor\u001B[49m\u001B[43m,\u001B[49m\u001B[43m \u001B[49m\u001B[43moptions\u001B[49m\u001B[43m,\u001B[49m\u001B[43m \u001B[49m\u001B[43mrun_metadata\u001B[49m\u001B[43m)\u001B[49m\n\u001B[0;32m   1217\u001B[0m \u001B[38;5;28;01melse\u001B[39;00m:\n",
      "File \u001B[1;32m~\\PycharmProjects\\vgg-test\\.venv\\lib\\site-packages\\tensorflow\\python\\client\\session.py:1395\u001B[0m, in \u001B[0;36mBaseSession._do_run\u001B[1;34m(self, handle, target_list, fetch_list, feed_dict, options, run_metadata)\u001B[0m\n\u001B[0;32m   1394\u001B[0m \u001B[38;5;28;01mif\u001B[39;00m handle \u001B[38;5;129;01mis\u001B[39;00m \u001B[38;5;28;01mNone\u001B[39;00m:\n\u001B[1;32m-> 1395\u001B[0m   \u001B[38;5;28;01mreturn\u001B[39;00m \u001B[38;5;28;43mself\u001B[39;49m\u001B[38;5;241;43m.\u001B[39;49m\u001B[43m_do_call\u001B[49m\u001B[43m(\u001B[49m\u001B[43m_run_fn\u001B[49m\u001B[43m,\u001B[49m\u001B[43m \u001B[49m\u001B[43mfeeds\u001B[49m\u001B[43m,\u001B[49m\u001B[43m \u001B[49m\u001B[43mfetches\u001B[49m\u001B[43m,\u001B[49m\u001B[43m \u001B[49m\u001B[43mtargets\u001B[49m\u001B[43m,\u001B[49m\u001B[43m \u001B[49m\u001B[43moptions\u001B[49m\u001B[43m,\u001B[49m\n\u001B[0;32m   1396\u001B[0m \u001B[43m                       \u001B[49m\u001B[43mrun_metadata\u001B[49m\u001B[43m)\u001B[49m\n\u001B[0;32m   1397\u001B[0m \u001B[38;5;28;01melse\u001B[39;00m:\n",
      "File \u001B[1;32m~\\PycharmProjects\\vgg-test\\.venv\\lib\\site-packages\\tensorflow\\python\\client\\session.py:1421\u001B[0m, in \u001B[0;36mBaseSession._do_call\u001B[1;34m(self, fn, *args)\u001B[0m\n\u001B[0;32m   1417\u001B[0m   message \u001B[38;5;241m+\u001B[39m\u001B[38;5;241m=\u001B[39m (\u001B[38;5;124m'\u001B[39m\u001B[38;5;130;01m\\n\u001B[39;00m\u001B[38;5;124mA possible workaround: Try disabling Grappler optimizer\u001B[39m\u001B[38;5;124m'\u001B[39m\n\u001B[0;32m   1418\u001B[0m               \u001B[38;5;124m'\u001B[39m\u001B[38;5;130;01m\\n\u001B[39;00m\u001B[38;5;124mby modifying the config for creating the session eg.\u001B[39m\u001B[38;5;124m'\u001B[39m\n\u001B[0;32m   1419\u001B[0m               \u001B[38;5;124m'\u001B[39m\u001B[38;5;130;01m\\n\u001B[39;00m\u001B[38;5;124msession_config.graph_options.rewrite_options.\u001B[39m\u001B[38;5;124m'\u001B[39m\n\u001B[0;32m   1420\u001B[0m               \u001B[38;5;124m'\u001B[39m\u001B[38;5;124mdisable_meta_optimizer = True\u001B[39m\u001B[38;5;124m'\u001B[39m)\n\u001B[1;32m-> 1421\u001B[0m \u001B[38;5;28;01mraise\u001B[39;00m \u001B[38;5;28mtype\u001B[39m(e)(node_def, op, message)\n",
      "\u001B[1;31mNotFoundError\u001B[0m: Graph execution error:\n\nDetected at node 'save/RestoreV2' defined at (most recent call last):\n    File \"C:\\Users\\norma\\AppData\\Local\\Programs\\Python\\Python39\\lib\\runpy.py\", line 197, in _run_module_as_main\n    File \"C:\\Users\\norma\\AppData\\Local\\Programs\\Python\\Python39\\lib\\runpy.py\", line 87, in _run_code\n    File \"C:\\Users\\norma\\PycharmProjects\\vgg-test\\.venv\\lib\\site-packages\\ipykernel_launcher.py\", line 17, in <module>\n    File \"C:\\Users\\norma\\PycharmProjects\\vgg-test\\.venv\\lib\\site-packages\\traitlets\\config\\application.py\", line 1075, in launch_instance\n    File \"C:\\Users\\norma\\PycharmProjects\\vgg-test\\.venv\\lib\\site-packages\\ipykernel\\kernelapp.py\", line 739, in start\n    File \"C:\\Users\\norma\\PycharmProjects\\vgg-test\\.venv\\lib\\site-packages\\tornado\\platform\\asyncio.py\", line 205, in start\n    File \"C:\\Users\\norma\\AppData\\Local\\Programs\\Python\\Python39\\lib\\asyncio\\base_events.py\", line 601, in run_forever\n    File \"C:\\Users\\norma\\AppData\\Local\\Programs\\Python\\Python39\\lib\\asyncio\\base_events.py\", line 1905, in _run_once\n    File \"C:\\Users\\norma\\AppData\\Local\\Programs\\Python\\Python39\\lib\\asyncio\\events.py\", line 80, in _run\n    File \"C:\\Users\\norma\\PycharmProjects\\vgg-test\\.venv\\lib\\site-packages\\ipykernel\\kernelbase.py\", line 542, in dispatch_queue\n    File \"C:\\Users\\norma\\PycharmProjects\\vgg-test\\.venv\\lib\\site-packages\\ipykernel\\kernelbase.py\", line 531, in process_one\n    File \"C:\\Users\\norma\\PycharmProjects\\vgg-test\\.venv\\lib\\site-packages\\ipykernel\\kernelbase.py\", line 437, in dispatch_shell\n    File \"C:\\Users\\norma\\PycharmProjects\\vgg-test\\.venv\\lib\\site-packages\\ipykernel\\ipkernel.py\", line 359, in execute_request\n    File \"C:\\Users\\norma\\PycharmProjects\\vgg-test\\.venv\\lib\\site-packages\\ipykernel\\kernelbase.py\", line 775, in execute_request\n    File \"C:\\Users\\norma\\PycharmProjects\\vgg-test\\.venv\\lib\\site-packages\\ipykernel\\ipkernel.py\", line 446, in do_execute\n    File \"C:\\Users\\norma\\PycharmProjects\\vgg-test\\.venv\\lib\\site-packages\\ipykernel\\zmqshell.py\", line 549, in run_cell\n    File \"C:\\Users\\norma\\PycharmProjects\\vgg-test\\.venv\\lib\\site-packages\\IPython\\core\\interactiveshell.py\", line 3048, in run_cell\n    File \"C:\\Users\\norma\\PycharmProjects\\vgg-test\\.venv\\lib\\site-packages\\IPython\\core\\interactiveshell.py\", line 3103, in _run_cell\n    File \"C:\\Users\\norma\\PycharmProjects\\vgg-test\\.venv\\lib\\site-packages\\IPython\\core\\async_helpers.py\", line 129, in _pseudo_sync_runner\n    File \"C:\\Users\\norma\\PycharmProjects\\vgg-test\\.venv\\lib\\site-packages\\IPython\\core\\interactiveshell.py\", line 3308, in run_cell_async\n    File \"C:\\Users\\norma\\PycharmProjects\\vgg-test\\.venv\\lib\\site-packages\\IPython\\core\\interactiveshell.py\", line 3490, in run_ast_nodes\n    File \"C:\\Users\\norma\\PycharmProjects\\vgg-test\\.venv\\lib\\site-packages\\IPython\\core\\interactiveshell.py\", line 3550, in run_code\n    File \"C:\\Users\\norma\\AppData\\Local\\Temp\\ipykernel_11200\\3617146106.py\", line 21, in <module>\n    File \"C:\\Users\\norma\\PycharmProjects\\vgg-test\\.venv\\lib\\site-packages\\tf_slim\\ops\\variables.py\", line 726, in assign_from_checkpoint_fn\nNode: 'save/RestoreV2'\nKey vgg_16/conv1/conv1_1/biases not found in checkpoint\n\t [[{{node save/RestoreV2}}]]\n\nOriginal stack trace for 'save/RestoreV2':\n  File \"C:\\Users\\norma\\AppData\\Local\\Programs\\Python\\Python39\\lib\\runpy.py\", line 197, in _run_module_as_main\n  File \"C:\\Users\\norma\\AppData\\Local\\Programs\\Python\\Python39\\lib\\runpy.py\", line 87, in _run_code\n  File \"C:\\Users\\norma\\PycharmProjects\\vgg-test\\.venv\\lib\\site-packages\\ipykernel_launcher.py\", line 17, in <module>\n  File \"C:\\Users\\norma\\PycharmProjects\\vgg-test\\.venv\\lib\\site-packages\\traitlets\\config\\application.py\", line 1075, in launch_instance\n  File \"C:\\Users\\norma\\PycharmProjects\\vgg-test\\.venv\\lib\\site-packages\\ipykernel\\kernelapp.py\", line 739, in start\n  File \"C:\\Users\\norma\\PycharmProjects\\vgg-test\\.venv\\lib\\site-packages\\tornado\\platform\\asyncio.py\", line 205, in start\n  File \"C:\\Users\\norma\\AppData\\Local\\Programs\\Python\\Python39\\lib\\asyncio\\base_events.py\", line 601, in run_forever\n  File \"C:\\Users\\norma\\AppData\\Local\\Programs\\Python\\Python39\\lib\\asyncio\\base_events.py\", line 1905, in _run_once\n  File \"C:\\Users\\norma\\AppData\\Local\\Programs\\Python\\Python39\\lib\\asyncio\\events.py\", line 80, in _run\n  File \"C:\\Users\\norma\\PycharmProjects\\vgg-test\\.venv\\lib\\site-packages\\ipykernel\\kernelbase.py\", line 542, in dispatch_queue\n  File \"C:\\Users\\norma\\PycharmProjects\\vgg-test\\.venv\\lib\\site-packages\\ipykernel\\kernelbase.py\", line 531, in process_one\n  File \"C:\\Users\\norma\\PycharmProjects\\vgg-test\\.venv\\lib\\site-packages\\ipykernel\\kernelbase.py\", line 437, in dispatch_shell\n  File \"C:\\Users\\norma\\PycharmProjects\\vgg-test\\.venv\\lib\\site-packages\\ipykernel\\ipkernel.py\", line 359, in execute_request\n  File \"C:\\Users\\norma\\PycharmProjects\\vgg-test\\.venv\\lib\\site-packages\\ipykernel\\kernelbase.py\", line 775, in execute_request\n  File \"C:\\Users\\norma\\PycharmProjects\\vgg-test\\.venv\\lib\\site-packages\\ipykernel\\ipkernel.py\", line 446, in do_execute\n  File \"C:\\Users\\norma\\PycharmProjects\\vgg-test\\.venv\\lib\\site-packages\\ipykernel\\zmqshell.py\", line 549, in run_cell\n  File \"C:\\Users\\norma\\PycharmProjects\\vgg-test\\.venv\\lib\\site-packages\\IPython\\core\\interactiveshell.py\", line 3048, in run_cell\n  File \"C:\\Users\\norma\\PycharmProjects\\vgg-test\\.venv\\lib\\site-packages\\IPython\\core\\interactiveshell.py\", line 3103, in _run_cell\n  File \"C:\\Users\\norma\\PycharmProjects\\vgg-test\\.venv\\lib\\site-packages\\IPython\\core\\async_helpers.py\", line 129, in _pseudo_sync_runner\n  File \"C:\\Users\\norma\\PycharmProjects\\vgg-test\\.venv\\lib\\site-packages\\IPython\\core\\interactiveshell.py\", line 3308, in run_cell_async\n  File \"C:\\Users\\norma\\PycharmProjects\\vgg-test\\.venv\\lib\\site-packages\\IPython\\core\\interactiveshell.py\", line 3490, in run_ast_nodes\n  File \"C:\\Users\\norma\\PycharmProjects\\vgg-test\\.venv\\lib\\site-packages\\IPython\\core\\interactiveshell.py\", line 3550, in run_code\n  File \"C:\\Users\\norma\\AppData\\Local\\Temp\\ipykernel_11200\\3617146106.py\", line 21, in <module>\n  File \"C:\\Users\\norma\\PycharmProjects\\vgg-test\\.venv\\lib\\site-packages\\tf_slim\\ops\\variables.py\", line 726, in assign_from_checkpoint_fn\n  File \"C:\\Users\\norma\\PycharmProjects\\vgg-test\\.venv\\lib\\site-packages\\tensorflow\\python\\training\\saver.py\", line 934, in __init__\n  File \"C:\\Users\\norma\\PycharmProjects\\vgg-test\\.venv\\lib\\site-packages\\tensorflow\\python\\training\\saver.py\", line 946, in build\n  File \"C:\\Users\\norma\\PycharmProjects\\vgg-test\\.venv\\lib\\site-packages\\tensorflow\\python\\training\\saver.py\", line 974, in _build\n  File \"C:\\Users\\norma\\PycharmProjects\\vgg-test\\.venv\\lib\\site-packages\\tensorflow\\python\\training\\saver.py\", line 543, in _build_internal\n  File \"C:\\Users\\norma\\PycharmProjects\\vgg-test\\.venv\\lib\\site-packages\\tensorflow\\python\\training\\saver.py\", line 360, in _AddRestoreOps\n  File \"C:\\Users\\norma\\PycharmProjects\\vgg-test\\.venv\\lib\\site-packages\\tensorflow\\python\\training\\saver.py\", line 611, in bulk_restore\n  File \"C:\\Users\\norma\\PycharmProjects\\vgg-test\\.venv\\lib\\site-packages\\tensorflow\\python\\ops\\gen_io_ops.py\", line 1522, in restore_v2\n  File \"C:\\Users\\norma\\PycharmProjects\\vgg-test\\.venv\\lib\\site-packages\\tensorflow\\python\\framework\\op_def_library.py\", line 796, in _apply_op_helper\n  File \"C:\\Users\\norma\\PycharmProjects\\vgg-test\\.venv\\lib\\site-packages\\tensorflow\\python\\framework\\ops.py\", line 2652, in _create_op_internal\n  File \"C:\\Users\\norma\\PycharmProjects\\vgg-test\\.venv\\lib\\site-packages\\tensorflow\\python\\framework\\ops.py\", line 1160, in from_node_def\n",
      "\nDuring handling of the above exception, another exception occurred:\n",
      "\u001B[1;31mNotFoundError\u001B[0m                             Traceback (most recent call last)",
      "Cell \u001B[1;32mIn[7], line 26\u001B[0m\n\u001B[0;32m     21\u001B[0m init_fn \u001B[38;5;241m=\u001B[39m slim\u001B[38;5;241m.\u001B[39massign_from_checkpoint_fn(\n\u001B[0;32m     22\u001B[0m     os\u001B[38;5;241m.\u001B[39mpath\u001B[38;5;241m.\u001B[39mjoin(\u001B[38;5;124m'\u001B[39m\u001B[38;5;124m./\u001B[39m\u001B[38;5;124m'\u001B[39m, \u001B[38;5;124m'\u001B[39m\u001B[38;5;124mcifar100vgg.ckpt\u001B[39m\u001B[38;5;124m'\u001B[39m),\n\u001B[0;32m     23\u001B[0m     slim\u001B[38;5;241m.\u001B[39mget_model_variables(\u001B[38;5;124m'\u001B[39m\u001B[38;5;124mvgg_16\u001B[39m\u001B[38;5;124m'\u001B[39m))\n\u001B[0;32m     25\u001B[0m \u001B[38;5;28;01mwith\u001B[39;00m tf\u001B[38;5;241m.\u001B[39mcompat\u001B[38;5;241m.\u001B[39mv1\u001B[38;5;241m.\u001B[39mSession() \u001B[38;5;28;01mas\u001B[39;00m sess:\n\u001B[1;32m---> 26\u001B[0m     \u001B[43minit_fn\u001B[49m\u001B[43m(\u001B[49m\u001B[43msess\u001B[49m\u001B[43m)\u001B[49m\n\u001B[0;32m     27\u001B[0m     np_image, probabilities \u001B[38;5;241m=\u001B[39m sess\u001B[38;5;241m.\u001B[39mrun([image, probabilities])\n\u001B[0;32m     28\u001B[0m     probabilities \u001B[38;5;241m=\u001B[39m probabilities[\u001B[38;5;241m0\u001B[39m, \u001B[38;5;241m0\u001B[39m:]\n",
      "File \u001B[1;32m~\\PycharmProjects\\vgg-test\\.venv\\lib\\site-packages\\tf_slim\\ops\\variables.py:732\u001B[0m, in \u001B[0;36massign_from_checkpoint_fn.<locals>.callback\u001B[1;34m(session)\u001B[0m\n\u001B[0;32m    731\u001B[0m \u001B[38;5;28;01mdef\u001B[39;00m \u001B[38;5;21mcallback\u001B[39m(session):\n\u001B[1;32m--> 732\u001B[0m   \u001B[43msaver\u001B[49m\u001B[38;5;241;43m.\u001B[39;49m\u001B[43mrestore\u001B[49m\u001B[43m(\u001B[49m\u001B[43msession\u001B[49m\u001B[43m,\u001B[49m\u001B[43m \u001B[49m\u001B[43mmodel_path\u001B[49m\u001B[43m)\u001B[49m\n",
      "File \u001B[1;32m~\\PycharmProjects\\vgg-test\\.venv\\lib\\site-packages\\tensorflow\\python\\training\\saver.py:1444\u001B[0m, in \u001B[0;36mSaver.restore\u001B[1;34m(self, sess, save_path)\u001B[0m\n\u001B[0;32m   1437\u001B[0m   \u001B[38;5;66;03m# This is an object-based checkpoint. We'll print a warning and then do\u001B[39;00m\n\u001B[0;32m   1438\u001B[0m   \u001B[38;5;66;03m# the restore.\u001B[39;00m\n\u001B[0;32m   1439\u001B[0m   logging\u001B[38;5;241m.\u001B[39mwarning(\n\u001B[0;32m   1440\u001B[0m       \u001B[38;5;124m\"\u001B[39m\u001B[38;5;124mRestoring an object-based checkpoint using a name-based saver. This \u001B[39m\u001B[38;5;124m\"\u001B[39m\n\u001B[0;32m   1441\u001B[0m       \u001B[38;5;124m\"\u001B[39m\u001B[38;5;124mmay be somewhat fragile, and will re-build the Saver. Instead, \u001B[39m\u001B[38;5;124m\"\u001B[39m\n\u001B[0;32m   1442\u001B[0m       \u001B[38;5;124m\"\u001B[39m\u001B[38;5;124mconsider loading object-based checkpoints using \u001B[39m\u001B[38;5;124m\"\u001B[39m\n\u001B[0;32m   1443\u001B[0m       \u001B[38;5;124m\"\u001B[39m\u001B[38;5;124mtf.train.Checkpoint().\u001B[39m\u001B[38;5;124m\"\u001B[39m)\n\u001B[1;32m-> 1444\u001B[0m   \u001B[38;5;28mself\u001B[39m\u001B[38;5;241m.\u001B[39m_object_restore_saver \u001B[38;5;241m=\u001B[39m \u001B[43msaver_from_object_based_checkpoint\u001B[49m\u001B[43m(\u001B[49m\n\u001B[0;32m   1445\u001B[0m \u001B[43m      \u001B[49m\u001B[43mcheckpoint_path\u001B[49m\u001B[38;5;241;43m=\u001B[39;49m\u001B[43msave_path\u001B[49m\u001B[43m,\u001B[49m\n\u001B[0;32m   1446\u001B[0m \u001B[43m      \u001B[49m\u001B[43mvar_list\u001B[49m\u001B[38;5;241;43m=\u001B[39;49m\u001B[38;5;28;43mself\u001B[39;49m\u001B[38;5;241;43m.\u001B[39;49m\u001B[43m_var_list\u001B[49m\u001B[43m,\u001B[49m\n\u001B[0;32m   1447\u001B[0m \u001B[43m      \u001B[49m\u001B[43mbuilder\u001B[49m\u001B[38;5;241;43m=\u001B[39;49m\u001B[38;5;28;43mself\u001B[39;49m\u001B[38;5;241;43m.\u001B[39;49m\u001B[43m_builder\u001B[49m\u001B[43m,\u001B[49m\n\u001B[0;32m   1448\u001B[0m \u001B[43m      \u001B[49m\u001B[43mnames_to_keys\u001B[49m\u001B[38;5;241;43m=\u001B[39;49m\u001B[43mnames_to_keys\u001B[49m\u001B[43m,\u001B[49m\n\u001B[0;32m   1449\u001B[0m \u001B[43m      \u001B[49m\u001B[43mcached_saver\u001B[49m\u001B[38;5;241;43m=\u001B[39;49m\u001B[38;5;28;43mself\u001B[39;49m\u001B[38;5;241;43m.\u001B[39;49m\u001B[43m_object_restore_saver\u001B[49m\u001B[43m)\u001B[49m\n\u001B[0;32m   1450\u001B[0m   \u001B[38;5;28mself\u001B[39m\u001B[38;5;241m.\u001B[39m_object_restore_saver\u001B[38;5;241m.\u001B[39mrestore(sess\u001B[38;5;241m=\u001B[39msess, save_path\u001B[38;5;241m=\u001B[39msave_path)\n\u001B[0;32m   1451\u001B[0m \u001B[38;5;28;01mexcept\u001B[39;00m errors\u001B[38;5;241m.\u001B[39mInvalidArgumentError \u001B[38;5;28;01mas\u001B[39;00m err:\n\u001B[0;32m   1452\u001B[0m   \u001B[38;5;66;03m# There is a mismatch between the graph and the checkpoint being loaded.\u001B[39;00m\n\u001B[0;32m   1453\u001B[0m   \u001B[38;5;66;03m# We add a more reasonable error message here to help users (b/110263146)\u001B[39;00m\n",
      "File \u001B[1;32m~\\PycharmProjects\\vgg-test\\.venv\\lib\\site-packages\\tensorflow\\python\\training\\saver.py:1826\u001B[0m, in \u001B[0;36msaver_from_object_based_checkpoint\u001B[1;34m(checkpoint_path, var_list, builder, names_to_keys, cached_saver)\u001B[0m\n\u001B[0;32m   1824\u001B[0m   extra_names \u001B[38;5;241m=\u001B[39m previous_names \u001B[38;5;241m-\u001B[39m current_names\n\u001B[0;32m   1825\u001B[0m   intersecting_names \u001B[38;5;241m=\u001B[39m previous_names\u001B[38;5;241m.\u001B[39mintersection(current_names)\n\u001B[1;32m-> 1826\u001B[0m   \u001B[38;5;28;01mraise\u001B[39;00m errors\u001B[38;5;241m.\u001B[39mNotFoundError(\n\u001B[0;32m   1827\u001B[0m       \u001B[38;5;28;01mNone\u001B[39;00m,\n\u001B[0;32m   1828\u001B[0m       \u001B[38;5;28;01mNone\u001B[39;00m,\n\u001B[0;32m   1829\u001B[0m       message\u001B[38;5;241m=\u001B[39m(\n\u001B[0;32m   1830\u001B[0m           \u001B[38;5;124m\"\u001B[39m\u001B[38;5;130;01m\\n\u001B[39;00m\u001B[38;5;130;01m\\n\u001B[39;00m\u001B[38;5;124mExisting variables not in the checkpoint: \u001B[39m\u001B[38;5;132;01m%s\u001B[39;00m\u001B[38;5;130;01m\\n\u001B[39;00m\u001B[38;5;130;01m\\n\u001B[39;00m\u001B[38;5;124m\"\u001B[39m\n\u001B[0;32m   1831\u001B[0m           \u001B[38;5;124m\"\u001B[39m\u001B[38;5;124mVariables names when this checkpoint was written which don\u001B[39m\u001B[38;5;124m'\u001B[39m\u001B[38;5;124mt \u001B[39m\u001B[38;5;124m\"\u001B[39m\n\u001B[0;32m   1832\u001B[0m           \u001B[38;5;124m\"\u001B[39m\u001B[38;5;124mexist now: \u001B[39m\u001B[38;5;132;01m%s\u001B[39;00m\u001B[38;5;130;01m\\n\u001B[39;00m\u001B[38;5;130;01m\\n\u001B[39;00m\u001B[38;5;124m\"\u001B[39m\n\u001B[0;32m   1833\u001B[0m           \u001B[38;5;124m\"\u001B[39m\u001B[38;5;124m(\u001B[39m\u001B[38;5;132;01m%d\u001B[39;00m\u001B[38;5;124m variable name(s) did match)\u001B[39m\u001B[38;5;130;01m\\n\u001B[39;00m\u001B[38;5;130;01m\\n\u001B[39;00m\u001B[38;5;124m\"\u001B[39m\n\u001B[0;32m   1834\u001B[0m           \u001B[38;5;124m\"\u001B[39m\u001B[38;5;124mCould not find some variables in the checkpoint (see names \u001B[39m\u001B[38;5;124m\"\u001B[39m\n\u001B[0;32m   1835\u001B[0m           \u001B[38;5;124m\"\u001B[39m\u001B[38;5;124mabove). Saver was attempting to load an object-based checkpoint \u001B[39m\u001B[38;5;124m\"\u001B[39m\n\u001B[0;32m   1836\u001B[0m           \u001B[38;5;124m\"\u001B[39m\u001B[38;5;124m(saved using tf.train.Checkpoint or tf.keras.Model.save_weights) \u001B[39m\u001B[38;5;124m\"\u001B[39m\n\u001B[0;32m   1837\u001B[0m           \u001B[38;5;124m\"\u001B[39m\u001B[38;5;124musing variable names. If the checkpoint was written with eager \u001B[39m\u001B[38;5;124m\"\u001B[39m\n\u001B[0;32m   1838\u001B[0m           \u001B[38;5;124m\"\u001B[39m\u001B[38;5;124mexecution enabled, it\u001B[39m\u001B[38;5;124m'\u001B[39m\u001B[38;5;124ms possible that variable names have \u001B[39m\u001B[38;5;124m\"\u001B[39m\n\u001B[0;32m   1839\u001B[0m           \u001B[38;5;124m\"\u001B[39m\u001B[38;5;124mchanged (for example missing a \u001B[39m\u001B[38;5;124m'\u001B[39m\u001B[38;5;124m_1\u001B[39m\u001B[38;5;124m'\u001B[39m\u001B[38;5;124m suffix). It\u001B[39m\u001B[38;5;124m'\u001B[39m\u001B[38;5;124ms also \u001B[39m\u001B[38;5;124m\"\u001B[39m\n\u001B[0;32m   1840\u001B[0m           \u001B[38;5;124m\"\u001B[39m\u001B[38;5;124mpossible that there are new variables which did not exist \u001B[39m\u001B[38;5;124m\"\u001B[39m\n\u001B[0;32m   1841\u001B[0m           \u001B[38;5;124m\"\u001B[39m\u001B[38;5;124mwhen the checkpoint was written. You can construct a \u001B[39m\u001B[38;5;124m\"\u001B[39m\n\u001B[0;32m   1842\u001B[0m           \u001B[38;5;124m\"\u001B[39m\u001B[38;5;124mSaver(var_list=...) with only the variables which previously \u001B[39m\u001B[38;5;124m\"\u001B[39m\n\u001B[0;32m   1843\u001B[0m           \u001B[38;5;124m\"\u001B[39m\u001B[38;5;124mexisted, and if variable names have changed you may need to \u001B[39m\u001B[38;5;124m\"\u001B[39m\n\u001B[0;32m   1844\u001B[0m           \u001B[38;5;124m\"\u001B[39m\u001B[38;5;124mmake this a dictionary with the old names as keys. If you\u001B[39m\u001B[38;5;124m'\u001B[39m\u001B[38;5;124mre \u001B[39m\u001B[38;5;124m\"\u001B[39m\n\u001B[0;32m   1845\u001B[0m           \u001B[38;5;124m\"\u001B[39m\u001B[38;5;124musing an Estimator, you\u001B[39m\u001B[38;5;124m'\u001B[39m\u001B[38;5;124mll need to return a tf.train.Saver \u001B[39m\u001B[38;5;124m\"\u001B[39m\n\u001B[0;32m   1846\u001B[0m           \u001B[38;5;124m\"\u001B[39m\u001B[38;5;124minside a tf.train.Scaffold from your model_fn.\u001B[39m\u001B[38;5;124m\"\u001B[39m) \u001B[38;5;241m%\u001B[39m\n\u001B[0;32m   1847\u001B[0m       (\u001B[38;5;124m\"\u001B[39m\u001B[38;5;124m, \u001B[39m\u001B[38;5;124m\"\u001B[39m\u001B[38;5;241m.\u001B[39mjoin(\u001B[38;5;28msorted\u001B[39m(missing_names)), \u001B[38;5;124m\"\u001B[39m\u001B[38;5;124m, \u001B[39m\u001B[38;5;124m\"\u001B[39m\u001B[38;5;241m.\u001B[39mjoin(\n\u001B[0;32m   1848\u001B[0m           \u001B[38;5;28msorted\u001B[39m(extra_names)), \u001B[38;5;28mlen\u001B[39m(intersecting_names)))\n\u001B[0;32m   1849\u001B[0m \u001B[38;5;28;01mfor\u001B[39;00m saveable \u001B[38;5;129;01min\u001B[39;00m saveables:\n\u001B[0;32m   1850\u001B[0m   \u001B[38;5;28;01mfor\u001B[39;00m spec \u001B[38;5;129;01min\u001B[39;00m saveable\u001B[38;5;241m.\u001B[39mspecs:\n",
      "\u001B[1;31mNotFoundError\u001B[0m: \n\nExisting variables not in the checkpoint: vgg_16/conv1/conv1_1/biases, vgg_16/conv1/conv1_1/weights, vgg_16/conv1/conv1_2/biases, vgg_16/conv1/conv1_2/weights, vgg_16/conv2/conv2_1/biases, vgg_16/conv2/conv2_1/weights, vgg_16/conv2/conv2_2/biases, vgg_16/conv2/conv2_2/weights, vgg_16/conv3/conv3_1/biases, vgg_16/conv3/conv3_1/weights, vgg_16/conv3/conv3_2/biases, vgg_16/conv3/conv3_2/weights, vgg_16/conv3/conv3_3/biases, vgg_16/conv3/conv3_3/weights, vgg_16/conv4/conv4_1/biases, vgg_16/conv4/conv4_1/weights, vgg_16/conv4/conv4_2/biases, vgg_16/conv4/conv4_2/weights, vgg_16/conv4/conv4_3/biases, vgg_16/conv4/conv4_3/weights, vgg_16/conv5/conv5_1/biases, vgg_16/conv5/conv5_1/weights, vgg_16/conv5/conv5_2/biases, vgg_16/conv5/conv5_2/weights, vgg_16/conv5/conv5_3/biases, vgg_16/conv5/conv5_3/weights, vgg_16/fc6/biases, vgg_16/fc6/weights, vgg_16/fc7/biases, vgg_16/fc7/weights, vgg_16/fc8/biases, vgg_16/fc8/weights\n\nVariables names when this checkpoint was written which don't exist now: batch_normalization/beta, batch_normalization/gamma, batch_normalization/moving_mean, batch_normalization/moving_variance, batch_normalization_1/beta, batch_normalization_1/gamma, batch_normalization_1/moving_mean, batch_normalization_1/moving_variance, batch_normalization_10/beta, batch_normalization_10/gamma, batch_normalization_10/moving_mean, batch_normalization_10/moving_variance, batch_normalization_11/beta, batch_normalization_11/gamma, batch_normalization_11/moving_mean, batch_normalization_11/moving_variance, batch_normalization_12/beta, batch_normalization_12/gamma, batch_normalization_12/moving_mean, batch_normalization_12/moving_variance, batch_normalization_13/beta, batch_normalization_13/gamma, batch_normalization_13/moving_mean, batch_normalization_13/moving_variance, batch_normalization_2/beta, batch_normalization_2/gamma, batch_normalization_2/moving_mean, batch_normalization_2/moving_variance, batch_normalization_3/beta, batch_normalization_3/gamma, batch_normalization_3/moving_mean, batch_normalization_3/moving_variance, batch_normalization_4/beta, batch_normalization_4/gamma, batch_normalization_4/moving_mean, batch_normalization_4/moving_variance, batch_normalization_5/beta, batch_normalization_5/gamma, batch_normalization_5/moving_mean, batch_normalization_5/moving_variance, batch_normalization_6/beta, batch_normalization_6/gamma, batch_normalization_6/moving_mean, batch_normalization_6/moving_variance, batch_normalization_7/beta, batch_normalization_7/gamma, batch_normalization_7/moving_mean, batch_normalization_7/moving_variance, batch_normalization_8/beta, batch_normalization_8/gamma, batch_normalization_8/moving_mean, batch_normalization_8/moving_variance, batch_normalization_9/beta, batch_normalization_9/gamma, batch_normalization_9/moving_mean, batch_normalization_9/moving_variance, conv2d/bias, conv2d/kernel, conv2d_1/bias, conv2d_1/kernel, conv2d_10/bias, conv2d_10/kernel, conv2d_11/bias, conv2d_11/kernel, conv2d_12/bias, conv2d_12/kernel, conv2d_2/bias, conv2d_2/kernel, conv2d_3/bias, conv2d_3/kernel, conv2d_4/bias, conv2d_4/kernel, conv2d_5/bias, conv2d_5/kernel, conv2d_6/bias, conv2d_6/kernel, conv2d_7/bias, conv2d_7/kernel, conv2d_8/bias, conv2d_8/kernel, conv2d_9/bias, conv2d_9/kernel, dense/bias, dense/kernel, dense_1/bias, dense_1/kernel\n\n(0 variable name(s) did match)\n\nCould not find some variables in the checkpoint (see names above). Saver was attempting to load an object-based checkpoint (saved using tf.train.Checkpoint or tf.keras.Model.save_weights) using variable names. If the checkpoint was written with eager execution enabled, it's possible that variable names have changed (for example missing a '_1' suffix). It's also possible that there are new variables which did not exist when the checkpoint was written. You can construct a Saver(var_list=...) with only the variables which previously existed, and if variable names have changed you may need to make this a dictionary with the old names as keys. If you're using an Estimator, you'll need to return a tf.train.Saver inside a tf.train.Scaffold from your model_fn."
     ]
    }
   ],
   "source": [
    "with tf.Graph().as_default():\n",
    "    #url = 'https://media.istockphoto.com/id/184276818/photo/red-apple.jpg?s=612x612&w=0&k=20&c=NvO-bLsG0DJ_7Ii8SSVoKLurzjmV0Qi4eGfn6nW3l5w='\n",
    "    #image_string = urllib.urlopen(url).read()\n",
    "    #image = tf.image.decode_jpeg(image_string, channels=3)\n",
    "    #image = tf.io.read_file(\"./imagenet/validation/ILSVRC2012_val_00018896.JPEG\")\n",
    "    image = tf.io.read_file(\"./cifar100_png/test/orange/0069.png\")\n",
    "    image = tf.image.decode_jpeg(image, channels=3)\n",
    "    processed_image = vgg_preprocessing.preprocess_image(image, image_size, image_size, is_training=False)\n",
    "    processed_images  = tf.expand_dims(processed_image, 0)\n",
    "    \n",
    "    # Create the model, use the default arg scope to configure the batch norm parameters.\n",
    "    with slim.arg_scope(vgg.vgg_arg_scope()):\n",
    "        # 1000 classes instead of 1001.\n",
    "        logits, _ = vgg.vgg_16(processed_images, num_classes=1000, is_training=False)\n",
    "    probabilities = tf.nn.softmax(logits)\n",
    "    \n",
    "    #init_fn = slim.assign_from_checkpoint_fn(\n",
    "        #os.path.join(checkpoints_dir, 'vgg_16.ckpt'),\n",
    "        #slim.get_model_variables('vgg_16'))\n",
    "    \n",
    "    init_fn = slim.assign_from_checkpoint_fn(\n",
    "        os.path.join('./', 'cifar100vgg.ckpt'),\n",
    "        slim.get_model_variables('vgg_16'))\n",
    "    \n",
    "    with tf.compat.v1.Session() as sess:\n",
    "        init_fn(sess)\n",
    "        np_image, probabilities = sess.run([image, probabilities])\n",
    "        probabilities = probabilities[0, 0:]\n",
    "        sorted_inds = [i[0] for i in sorted(enumerate(-probabilities), key=lambda x:x[1])]\n",
    "        \n",
    "    plt.figure()\n",
    "    plt.imshow(np_image.astype(np.uint8))\n",
    "    plt.axis('off')\n",
    "    plt.show()\n",
    "    \n",
    "    names = imagenet.create_readable_names_for_imagenet_labels()\n",
    "    for i in range(5):\n",
    "        index = sorted_inds[i]\n",
    "        # Shift the index of a class name by one. \n",
    "        print('Probability %0.2f%% => [%s]' % (probabilities[index] * 100, names[index+1]))"
   ],
   "metadata": {
    "collapsed": false,
    "ExecuteTime": {
     "end_time": "2024-02-09T08:28:25.000342900Z",
     "start_time": "2024-02-09T08:28:24.423527100Z"
    }
   },
   "id": "5de4a0122a485c0a",
   "execution_count": 7
  },
  {
   "cell_type": "code",
   "outputs": [],
   "source": [],
   "metadata": {
    "collapsed": false
   },
   "id": "dacfd5f7e096d60d"
  }
 ],
 "metadata": {
  "kernelspec": {
   "display_name": "Python 3",
   "language": "python",
   "name": "python3"
  },
  "language_info": {
   "codemirror_mode": {
    "name": "ipython",
    "version": 2
   },
   "file_extension": ".py",
   "mimetype": "text/x-python",
   "name": "python",
   "nbconvert_exporter": "python",
   "pygments_lexer": "ipython2",
   "version": "2.7.6"
  }
 },
 "nbformat": 4,
 "nbformat_minor": 5
}
